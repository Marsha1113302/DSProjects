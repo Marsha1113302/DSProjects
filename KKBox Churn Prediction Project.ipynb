{
 "cells": [
  {
   "cell_type": "markdown",
   "id": "c9616615",
   "metadata": {},
   "source": [
    "Predicting user churn based on transaction data and listening history. Steps include:\n",
    "\n",
    "1. Clean and normalize data for analysis\n",
    "\n",
    "2. Exploratory Analysis/Feature Engineering\n",
    "\n",
    "3. Preprocessing/Model building\n",
    "\n",
    "4. Predict churn on test data\n",
    "\n",
    "Note: Criteria of \"churn\" is no new valid service subscription within 30 days after current membership expires. Transaction data after April 2017 is purposely omitted by the poster. The dataset can be found on https://www.kaggle.com/competitions/kkbox-churn-prediction-challenge/data"
   ]
  },
  {
   "cell_type": "markdown",
   "id": "72a4a76b",
   "metadata": {},
   "source": [
    "# Step 1: Clean and normalize data for analysis"
   ]
  },
  {
   "cell_type": "code",
   "execution_count": 2,
   "id": "1e785be9",
   "metadata": {},
   "outputs": [],
   "source": [
    "import pandas as pd\n",
    "import datetime\n",
    "import numpy as np\n",
    "pd.set_option('display.max_columns', 500)"
   ]
  },
  {
   "cell_type": "code",
   "execution_count": 11,
   "id": "a3400616",
   "metadata": {},
   "outputs": [],
   "source": [
    "traindf = pd.read_csv('train_v2.csv')\n",
    "transdf = pd.read_csv('transactions_v2.csv', parse_dates = ['transaction_date','membership_expire_date'])\n",
    "userdf = pd.read_csv(r\"C:\\Users\\marsh\\Desktop\\Springboard\\Capstone2\\user_logs_v2.csv\", parse_dates = ['date'])\n",
    "memdf = pd.read_csv('members_v3.csv', parse_dates = ['registration_init_time'])"
   ]
  },
  {
   "cell_type": "code",
   "execution_count": 12,
   "id": "fa3a043f",
   "metadata": {},
   "outputs": [
    {
     "data": {
      "text/plain": [
       "msno                              object\n",
       "is_churn                           int64\n",
       "payment_method_id                float64\n",
       "payment_plan_days                float64\n",
       "plan_list_price                  float64\n",
       "actual_amount_paid               float64\n",
       "is_auto_renew                    float64\n",
       "transaction_date          datetime64[ns]\n",
       "membership_expire_date    datetime64[ns]\n",
       "is_cancel                        float64\n",
       "dtype: object"
      ]
     },
     "execution_count": 12,
     "metadata": {},
     "output_type": "execute_result"
    }
   ],
   "source": [
    "# merge train and transaction tables, remove null values\n",
    "\n",
    "df = traindf.merge(transdf, on = 'msno', how = 'left')\n",
    "df = df.sort_values(['msno','transaction_date'])\n",
    "df.dropna(inplace= True)\n",
    "df.isna().sum()\n",
    "df.dtypes"
   ]
  },
  {
   "cell_type": "code",
   "execution_count": 18,
   "id": "c16f2b5e",
   "metadata": {},
   "outputs": [
    {
     "name": "stderr",
     "output_type": "stream",
     "text": [
      "C:\\Users\\marsh\\AppData\\Local\\Temp/ipykernel_19020/660429278.py:7: SettingWithCopyWarning: \n",
      "A value is trying to be set on a copy of a slice from a DataFrame.\n",
      "Try using .loc[row_indexer,col_indexer] = value instead\n",
      "\n",
      "See the caveats in the documentation: https://pandas.pydata.org/pandas-docs/stable/user_guide/indexing.html#returning-a-view-versus-a-copy\n",
      "  dup['prev_user'] = dup.msno.shift(1)\n",
      "C:\\Users\\marsh\\AppData\\Local\\Temp/ipykernel_19020/660429278.py:9: SettingWithCopyWarning: \n",
      "A value is trying to be set on a copy of a slice from a DataFrame.\n",
      "Try using .loc[row_indexer,col_indexer] = value instead\n",
      "\n",
      "See the caveats in the documentation: https://pandas.pydata.org/pandas-docs/stable/user_guide/indexing.html#returning-a-view-versus-a-copy\n",
      "  dup['avg_time_between_transactions'] = (dup.transaction_date -\n",
      "C:\\Users\\marsh\\AppData\\Local\\Temp/ipykernel_19020/660429278.py:12: SettingWithCopyWarning: \n",
      "A value is trying to be set on a copy of a slice from a DataFrame.\n",
      "Try using .loc[row_indexer,col_indexer] = value instead\n",
      "\n",
      "See the caveats in the documentation: https://pandas.pydata.org/pandas-docs/stable/user_guide/indexing.html#returning-a-view-versus-a-copy\n",
      "  dup['sum_membership_duration'] = dup.membership_expire_date - dup.transaction_date\n",
      "C:\\Users\\marsh\\AppData\\Local\\Temp/ipykernel_19020/660429278.py:13: SettingWithCopyWarning: \n",
      "A value is trying to be set on a copy of a slice from a DataFrame.\n",
      "Try using .loc[row_indexer,col_indexer] = value instead\n",
      "\n",
      "See the caveats in the documentation: https://pandas.pydata.org/pandas-docs/stable/user_guide/indexing.html#returning-a-view-versus-a-copy\n",
      "  dup.sum_membership_duration = pd.to_timedelta(dup.sum_membership_duration, unit='d')\n",
      "C:\\Users\\marsh\\AppData\\Local\\Temp/ipykernel_19020/660429278.py:14: SettingWithCopyWarning: \n",
      "A value is trying to be set on a copy of a slice from a DataFrame.\n",
      "Try using .loc[row_indexer,col_indexer] = value instead\n",
      "\n",
      "See the caveats in the documentation: https://pandas.pydata.org/pandas-docs/stable/user_guide/indexing.html#returning-a-view-versus-a-copy\n",
      "  dup.sum_membership_duration = dup.sum_membership_duration.dt.days\n",
      "C:\\Users\\marsh\\AppData\\Local\\Temp/ipykernel_19020/660429278.py:15: SettingWithCopyWarning: \n",
      "A value is trying to be set on a copy of a slice from a DataFrame.\n",
      "Try using .loc[row_indexer,col_indexer] = value instead\n",
      "\n",
      "See the caveats in the documentation: https://pandas.pydata.org/pandas-docs/stable/user_guide/indexing.html#returning-a-view-versus-a-copy\n",
      "  dup.loc[dup.sum_membership_duration < 0] = 0\n",
      "C:\\Users\\marsh\\AppData\\Local\\Temp/ipykernel_19020/660429278.py:16: SettingWithCopyWarning: \n",
      "A value is trying to be set on a copy of a slice from a DataFrame.\n",
      "Try using .loc[row_indexer,col_indexer] = value instead\n",
      "\n",
      "See the caveats in the documentation: https://pandas.pydata.org/pandas-docs/stable/user_guide/indexing.html#returning-a-view-versus-a-copy\n",
      "  dup.avg_time_between_transactions = pd.to_timedelta(dup.avg_time_between_transactions, unit='d')\n",
      "C:\\Users\\marsh\\AppData\\Local\\Temp/ipykernel_19020/660429278.py:17: SettingWithCopyWarning: \n",
      "A value is trying to be set on a copy of a slice from a DataFrame.\n",
      "Try using .loc[row_indexer,col_indexer] = value instead\n",
      "\n",
      "See the caveats in the documentation: https://pandas.pydata.org/pandas-docs/stable/user_guide/indexing.html#returning-a-view-versus-a-copy\n",
      "  dup.avg_time_between_transactions = dup.avg_time_between_transactions.dt.days\n"
     ]
    }
   ],
   "source": [
    "# Let's deal with duplicate user id entries first. Here I aggregate transactions\n",
    "# with the average time between transactions and membership duration with the \n",
    "# sum.\n",
    "\n",
    "dup = df[df.msno.duplicated()].reset_index()\n",
    "dup = df[df.msno.isin(dup.msno)]\n",
    "dup['prev_user'] = dup.msno.shift(1)\n",
    "dup.iloc[0,10] = '+++l/EXNMLTijfLBa8p2TUVVVp2aFGSuUI/h7mLmthw='\n",
    "dup['avg_time_between_transactions'] = (dup.transaction_date -\n",
    "                              dup.transaction_date.shift(1)).where(dup.prev_user == dup.msno, 0)\n",
    "dup.iloc[0,11] = 0\n",
    "dup['sum_membership_duration'] = dup.membership_expire_date - dup.transaction_date\n",
    "dup.sum_membership_duration = pd.to_timedelta(dup.sum_membership_duration, unit='d')\n",
    "dup.sum_membership_duration = dup.sum_membership_duration.dt.days\n",
    "dup.loc[dup.sum_membership_duration < 0] = 0\n",
    "dup.avg_time_between_transactions = pd.to_timedelta(dup.avg_time_between_transactions, unit='d')\n",
    "dup.avg_time_between_transactions = dup.avg_time_between_transactions.dt.days\n",
    "dup.loc[dup.avg_time_between_transactions< 0] = 0"
   ]
  },
  {
   "cell_type": "code",
   "execution_count": 20,
   "id": "b407a226",
   "metadata": {},
   "outputs": [],
   "source": [
    "# Aggregate remaining columns with the mode or max where it is appropriate.\n",
    "\n",
    "dup = dup.groupby('msno', as_index = False).agg({'is_churn': lambda x:x.value_counts().index[0],'payment_method_id': lambda x:x.value_counts().index[0], 'payment_plan_days': 'max', 'plan_list_price': 'max',\n",
    "                                       'actual_amount_paid': 'max', 'is_auto_renew': lambda x:x.value_counts().index[0], 'transaction_date': 'max', 'membership_expire_date': 'max',\n",
    "                                       'is_cancel': lambda x:x.value_counts().index[0], 'sum_membership_duration': 'sum', 'avg_time_between_transactions': 'mean'})\n",
    "dup = dup.rename(columns = {'transaction_date': 'latest_transaction', 'membership_expire_date': 'latest_membership_expiration'})\n",
    "dup.drop(index=dup.index[0], \n",
    "        axis=0, \n",
    "        inplace=True)"
   ]
  },
  {
   "cell_type": "code",
   "execution_count": 22,
   "id": "6709a88d",
   "metadata": {},
   "outputs": [
    {
     "name": "stderr",
     "output_type": "stream",
     "text": [
      "C:\\Users\\marsh\\AppData\\Local\\Temp/ipykernel_19020/4138481773.py:5: SettingWithCopyWarning: \n",
      "A value is trying to be set on a copy of a slice from a DataFrame.\n",
      "Try using .loc[row_indexer,col_indexer] = value instead\n",
      "\n",
      "See the caveats in the documentation: https://pandas.pydata.org/pandas-docs/stable/user_guide/indexing.html#returning-a-view-versus-a-copy\n",
      "  nondup['sum_membership_duration'] = nondup.membership_expire_date - nondup.transaction_date\n",
      "C:\\Users\\marsh\\AppData\\Local\\Temp/ipykernel_19020/4138481773.py:6: SettingWithCopyWarning: \n",
      "A value is trying to be set on a copy of a slice from a DataFrame.\n",
      "Try using .loc[row_indexer,col_indexer] = value instead\n",
      "\n",
      "See the caveats in the documentation: https://pandas.pydata.org/pandas-docs/stable/user_guide/indexing.html#returning-a-view-versus-a-copy\n",
      "  nondup['avg_time_between_transactions'] = 0\n",
      "C:\\Users\\marsh\\AppData\\Local\\Temp/ipykernel_19020/4138481773.py:7: SettingWithCopyWarning: \n",
      "A value is trying to be set on a copy of a slice from a DataFrame.\n",
      "Try using .loc[row_indexer,col_indexer] = value instead\n",
      "\n",
      "See the caveats in the documentation: https://pandas.pydata.org/pandas-docs/stable/user_guide/indexing.html#returning-a-view-versus-a-copy\n",
      "  nondup.sum_membership_duration = pd.to_timedelta(nondup.sum_membership_duration, unit='d')\n",
      "C:\\Users\\marsh\\AppData\\Local\\Temp/ipykernel_19020/4138481773.py:8: SettingWithCopyWarning: \n",
      "A value is trying to be set on a copy of a slice from a DataFrame.\n",
      "Try using .loc[row_indexer,col_indexer] = value instead\n",
      "\n",
      "See the caveats in the documentation: https://pandas.pydata.org/pandas-docs/stable/user_guide/indexing.html#returning-a-view-versus-a-copy\n",
      "  nondup.sum_membership_duration = nondup.sum_membership_duration.dt.days\n"
     ]
    }
   ],
   "source": [
    "# Create same columns for non-duplicate user id entries, and aggregate remaining\n",
    "# columns.\n",
    "nondup = df[~df.msno.isin(dup.msno)]\n",
    "nondup.sort_values('transaction_date')\n",
    "nondup['sum_membership_duration'] = nondup.membership_expire_date - nondup.transaction_date\n",
    "nondup['avg_time_between_transactions'] = 0\n",
    "nondup.sum_membership_duration = pd.to_timedelta(nondup.sum_membership_duration, unit='d')\n",
    "nondup.sum_membership_duration = nondup.sum_membership_duration.dt.days\n",
    "nondup.loc[nondup.sum_membership_duration < 0, 'sum_membership_duration'] = 0\n",
    "nondup = nondup.groupby('msno', as_index = False).agg({'is_churn': lambda x:x.value_counts().index[0],'payment_method_id': lambda x:x.value_counts().index[0], 'payment_plan_days': 'max', 'plan_list_price': 'max',\n",
    "                                       'actual_amount_paid': 'max', 'is_auto_renew': lambda x:x.value_counts().index[0], 'transaction_date': 'max', 'membership_expire_date': 'max',\n",
    "                                       'is_cancel': lambda x:x.value_counts().index[0], 'sum_membership_duration': 'sum', 'avg_time_between_transactions': 'mean'})\n",
    "nondup = nondup.rename(columns = {'transaction_date': 'latest_transaction', 'membership_expire_date': 'latest_membership_expiration'})\n"
   ]
  },
  {
   "cell_type": "code",
   "execution_count": 23,
   "id": "3014276e",
   "metadata": {},
   "outputs": [
    {
     "data": {
      "text/plain": [
       "False"
      ]
     },
     "execution_count": 23,
     "metadata": {},
     "output_type": "execute_result"
    }
   ],
   "source": [
    "df = pd.concat([dup,nondup], ignore_index = True)\n",
    "df.msno.duplicated().any()"
   ]
  },
  {
   "cell_type": "code",
   "execution_count": 24,
   "id": "6d427d02",
   "metadata": {},
   "outputs": [],
   "source": [
    "# Aggregate user table by sum of songs listened to and the latest listen date.\n",
    "# Then further calculation on listening history. For example, percent_25 \n",
    "# indicates how many songs they listen to until only 25% of the song is completed.\n",
    "\n",
    "userdf = userdf.groupby('msno', as_index = False).agg({'date': 'max', 'num_25': 'sum', 'num_50': 'sum', 'num_75': 'sum',\n",
    "                                 'num_985': 'sum', 'num_100': 'sum', 'num_unq': 'max', 'total_secs': 'sum'})\n",
    "userdf['percent_25'] = userdf['num_25']/(userdf['num_25']+userdf['num_50']+userdf['num_75']+userdf['num_985']+userdf['num_100'])\n",
    "userdf['percent_50'] = userdf['num_50']/(userdf['num_25']+userdf['num_50']+userdf['num_75']+userdf['num_985']+userdf['num_100'])\n",
    "userdf['percent_100'] = (userdf['num_985']+userdf['num_100'])/(userdf['num_25']+userdf['num_50']+userdf['num_75']+userdf['num_985']+userdf['num_100'])\n",
    "userdf = userdf.drop(columns = ['num_25', 'num_50', 'num_75', 'num_985', 'num_100'])"
   ]
  },
  {
   "cell_type": "code",
   "execution_count": 25,
   "id": "c5e49404",
   "metadata": {},
   "outputs": [
    {
     "data": {
      "text/plain": [
       "msno                             0\n",
       "is_churn                         0\n",
       "payment_method_id                0\n",
       "payment_plan_days                0\n",
       "plan_list_price                  0\n",
       "actual_amount_paid               0\n",
       "is_auto_renew                    0\n",
       "latest_transaction               0\n",
       "latest_membership_expiration     0\n",
       "is_cancel                        0\n",
       "sum_membership_duration          0\n",
       "avg_time_between_transactions    0\n",
       "latest_listen_date               0\n",
       "num_unq                          0\n",
       "total_secs                       0\n",
       "percent_25                       0\n",
       "percent_50                       0\n",
       "percent_100                      0\n",
       "dtype: int64"
      ]
     },
     "execution_count": 25,
     "metadata": {},
     "output_type": "execute_result"
    }
   ],
   "source": [
    "# merge user table with previous table and remove null values\n",
    "df1 = df.merge(userdf, how = 'left')\n",
    "df1 = df1.dropna()\n",
    "df1 = df1.rename(columns = {'date' : 'latest_listen_date'})\n",
    "df1.isnull().sum()"
   ]
  },
  {
   "cell_type": "code",
   "execution_count": 26,
   "id": "9de7e02d",
   "metadata": {},
   "outputs": [],
   "source": [
    "# merge member table with previous table, and drop gender column since over 50% \n",
    "# of it contains null values.\n",
    "memdf = pd.read_csv('members_v3.csv', parse_dates = ['registration_init_time'])\n",
    "df1 = df1.merge(memdf, on = 'msno',how = 'left')\n",
    "df1.drop(columns = ['bd','gender'], inplace = True)\n",
    "df1 = df1.dropna()\n",
    "df1.to_csv('Capstone updated 126023.csv',index = False)"
   ]
  },
  {
   "cell_type": "markdown",
   "id": "7a337450",
   "metadata": {},
   "source": [
    "# Step 2. Exploratory Data Analysis"
   ]
  },
  {
   "cell_type": "code",
   "execution_count": 3,
   "id": "5cc64676",
   "metadata": {},
   "outputs": [],
   "source": [
    "import matplotlib.pyplot as plt\n",
    "import matplotlib.axes\n",
    "import seaborn as sns"
   ]
  },
  {
   "cell_type": "code",
   "execution_count": 28,
   "id": "f80e1911",
   "metadata": {},
   "outputs": [],
   "source": [
    "df = pd.read_csv('Capstone updated 126023.csv', parse_dates = ['latest_transaction','latest_membership_expiration','latest_listen_date','registration_init_time'])"
   ]
  },
  {
   "cell_type": "code",
   "execution_count": 29,
   "id": "836d32d6",
   "metadata": {},
   "outputs": [
    {
     "name": "stdout",
     "output_type": "stream",
     "text": [
      "46603 0.06421604967191294\n"
     ]
    },
    {
     "data": {
      "image/png": "[encoded data removed]",
      "text/plain": [
       "<Figure size 432x288 with 1 Axes>"
      ]
     },
     "metadata": {
      "needs_background": "light"
     },
     "output_type": "display_data"
    }
   ],
   "source": [
    "# I will look at each feature to see if there is any visible relationship with\n",
    "# user churn.\n",
    "\n",
    "totusers = len(df['msno'])\n",
    "not_churn = df[df['is_churn'] == 0]\n",
    "is_churn = df[df['is_churn'] == 1]\n",
    "sns.countplot(x = 'is_churn', data = df)\n",
    "plt.title('Number of Users')\n",
    "plt.xlabel('Churn')\n",
    "print(len(is_churn), len(is_churn) / totusers)\n",
    "\n",
    "\n",
    "# Total of 6% of users appeared to have churned."
   ]
  },
  {
   "cell_type": "code",
   "execution_count": 32,
   "id": "9c45c07b",
   "metadata": {},
   "outputs": [
    {
     "data": {
      "text/html": [
       "<div>\n",
       "<style scoped>\n",
       "    .dataframe tbody tr th:only-of-type {\n",
       "        vertical-align: middle;\n",
       "    }\n",
       "\n",
       "    .dataframe tbody tr th {\n",
       "        vertical-align: top;\n",
       "    }\n",
       "\n",
       "    .dataframe thead tr th {\n",
       "        text-align: left;\n",
       "    }\n",
       "\n",
       "    .dataframe thead tr:last-of-type th {\n",
       "        text-align: right;\n",
       "    }\n",
       "</style>\n",
       "<table border=\"1\" class=\"dataframe\">\n",
       "  <thead>\n",
       "    <tr>\n",
       "      <th></th>\n",
       "      <th colspan=\"3\" halign=\"left\">sum_membership_duration</th>\n",
       "    </tr>\n",
       "    <tr>\n",
       "      <th></th>\n",
       "      <th>mean</th>\n",
       "      <th>count</th>\n",
       "      <th>sum</th>\n",
       "    </tr>\n",
       "    <tr>\n",
       "      <th>is_churn</th>\n",
       "      <th></th>\n",
       "      <th></th>\n",
       "      <th></th>\n",
       "    </tr>\n",
       "  </thead>\n",
       "  <tbody>\n",
       "    <tr>\n",
       "      <th>0</th>\n",
       "      <td>94.090395</td>\n",
       "      <td>679119</td>\n",
       "      <td>63898575</td>\n",
       "    </tr>\n",
       "    <tr>\n",
       "      <th>1</th>\n",
       "      <td>272.285840</td>\n",
       "      <td>46603</td>\n",
       "      <td>12689337</td>\n",
       "    </tr>\n",
       "  </tbody>\n",
       "</table>\n",
       "</div>"
      ],
      "text/plain": [
       "         sum_membership_duration                  \n",
       "                            mean   count       sum\n",
       "is_churn                                          \n",
       "0                      94.090395  679119  63898575\n",
       "1                     272.285840   46603  12689337"
      ]
     },
     "execution_count": 32,
     "metadata": {},
     "output_type": "execute_result"
    }
   ],
   "source": [
    "df[['is_churn', \"sum_membership_duration\"]].groupby(\"is_churn\").agg({\"sum_membership_duration\":['mean', 'count','sum']})\n",
    "\n",
    "# Total membership duration is highly correlated with user churn. "
   ]
  },
  {
   "cell_type": "code",
   "execution_count": 33,
   "id": "8b9099da",
   "metadata": {},
   "outputs": [
    {
     "data": {
      "text/plain": [
       "<AxesSubplot: xlabel='is_churn', ylabel='sum_membership_duration'>"
      ]
     },
     "execution_count": 33,
     "metadata": {},
     "output_type": "execute_result"
    },
    {
     "data": {
      "image/png": "[encoded data removed]",
      "text/plain": [
       "<Figure size 432x288 with 1 Axes>"
      ]
     },
     "metadata": {
      "needs_background": "light"
     },
     "output_type": "display_data"
    }
   ],
   "source": [
    "sns.barplot(x = df.is_churn, y= df.sum_membership_duration)\n",
    "\n",
    "# After plotting it, users with longer memberships seem more likely to churn."
   ]
  },
  {
   "cell_type": "code",
   "execution_count": 52,
   "id": "8521fe0d",
   "metadata": {},
   "outputs": [
    {
     "data": {
      "text/plain": [
       "[Text(0, 0, '0-30.708 days'),\n",
       " Text(1, 0, '30.709-31.377 days'),\n",
       " Text(2, 0, '31.378-31.982 days'),\n",
       " Text(3, 0, '>31.982 days')]"
      ]
     },
     "execution_count": 52,
     "metadata": {},
     "output_type": "execute_result"
    },
    {
     "data": {
      "image/png": "[encoded data removed]",
      "text/plain": [
       "<Figure size 432x288 with 1 Axes>"
      ]
     },
     "metadata": {
      "needs_background": "light"
     },
     "output_type": "display_data"
    }
   ],
   "source": [
    "# Here, I use the pandas qcut function to see time interval is associated with\n",
    "# user churn.\n",
    "\n",
    "df['amdrqcut'] = df['sum_membership_duration'].apply(lambda x: x + np.random.random())\n",
    "df['amdrqcut'] = pd.qcut(x= df[\"amdrqcut\"], q = 4,duplicates = 'drop')\n",
    "\n",
    "x = sns.countplot(x = 'amdrqcut', data = df)\n",
    "x.set_xticklabels(labels = ['0-30.708 days','30.709-31.377 days','31.378-31.982 days','>31.982 days'],rotation = 90)"
   ]
  },
  {
   "cell_type": "code",
   "execution_count": 53,
   "id": "ef3173a5",
   "metadata": {},
   "outputs": [
    {
     "data": {
      "text/plain": [
       "([0, 1, 2, 3],\n",
       " [Text(0, 0, '(-0.00068, 30.749]'),\n",
       "  Text(1, 0, '(30.749, 31.407]'),\n",
       "  Text(2, 0, '(31.407, 32.052]'),\n",
       "  Text(3, 0, '(32.052, 203901.815]')])"
      ]
     },
     "execution_count": 53,
     "metadata": {},
     "output_type": "execute_result"
    },
    {
     "data": {
      "image/png": "[encoded data removed]",
      "text/plain": [
       "<Figure size 432x288 with 1 Axes>"
      ]
     },
     "metadata": {
      "needs_background": "light"
     },
     "output_type": "display_data"
    }
   ],
   "source": [
    "df['amdrqcut'] = df.amdrqcut.astype(str)\n",
    "amdrqcut = df.groupby('amdrqcut').sum()['is_churn'] /totusers *100\n",
    "\n",
    "x = plt.bar(amdrqcut.index, amdrqcut.values)\n",
    "plt.xlabel('sum membership duration')\n",
    "plt.ylabel('% of total users that churned')\n",
    "plt.xticks(rotation= 'vertical')\n",
    "\n",
    "# Users that have memberships longer than 32 days are very likely to churn."
   ]
  },
  {
   "cell_type": "code",
   "execution_count": 35,
   "id": "7cfa1861",
   "metadata": {},
   "outputs": [
    {
     "data": {
      "text/plain": [
       "(0.0, 30.0)"
      ]
     },
     "execution_count": 35,
     "metadata": {},
     "output_type": "execute_result"
    },
    {
     "data": {
      "image/png": "[encoded data removed]",
      "text/plain": [
       "<Figure size 1296x720 with 1 Axes>"
      ]
     },
     "metadata": {
      "needs_background": "light"
     },
     "output_type": "display_data"
    }
   ],
   "source": [
    "# Let's take a look at average time between transactions.\n",
    "\n",
    "df.sort_values('avg_time_between_transactions')\n",
    "df.avg_time_between_transactions = round(df.avg_time_between_transactions,2)\n",
    "atbt = df.groupby('avg_time_between_transactions').sum()['is_churn'] /totusers *100\n",
    "plt.figure(figsize=(18,10))\n",
    "plt.bar(atbt.index, atbt.values)\n",
    "plt.xlabel('Average membership duration')\n",
    "plt.ylabel('% of total users that churned')\n",
    "plt.xticks(rotation= 'vertical')\n",
    "plt.xlim([0,30])\n",
    "\n",
    "# It looks like users with 0 transactions also churn more often."
   ]
  },
  {
   "cell_type": "code",
   "execution_count": 36,
   "id": "de582a54",
   "metadata": {},
   "outputs": [
    {
     "data": {
      "image/png": "[encoded data removed]",
      "text/plain": [
       "<Figure size 432x288 with 1 Axes>"
      ]
     },
     "metadata": {
      "needs_background": "light"
     },
     "output_type": "display_data"
    },
    {
     "data": {
      "image/png": "[encoded data removed]",
      "text/plain": [
       "<Figure size 792x432 with 1 Axes>"
      ]
     },
     "metadata": {
      "needs_background": "light"
     },
     "output_type": "display_data"
    }
   ],
   "source": [
    "# Then we look at latest listen date. \n",
    "\n",
    "listen = df.groupby('latest_listen_date').sum()['is_churn'] / totusers *100\n",
    "\n",
    "plt.bar(listen.index, listen.values)\n",
    "plt.xlabel('listen date')\n",
    "plt.ylabel('% of total users that churned')\n",
    "plt.xticks(rotation= 'vertical')\n",
    "\n",
    "\n",
    "plt.figure(figsize=(11,6))\n",
    "sns.countplot(x=\"latest_listen_date\", data=df)\n",
    "plt.ylabel('Count', fontsize=12)\n",
    "plt.xlabel('latest listen date', fontsize=12)\n",
    "plt.xticks(rotation='vertical')\n",
    "plt.title(\"Frequency of latest listen date Count \", fontsize=12)\n",
    "plt.show()\n",
    "\n",
    "# Though it appears that many users churned in March, there are also far more \n",
    "# entries with a listen date in late March. Therefore, there isn't an obvious\n",
    "# conclusion that can be drawn here."
   ]
  },
  {
   "cell_type": "code",
   "execution_count": 39,
   "id": "3eba6e2e",
   "metadata": {},
   "outputs": [
    {
     "data": {
      "text/plain": [
       "(0.0, 250.0)"
      ]
     },
     "execution_count": 39,
     "metadata": {},
     "output_type": "execute_result"
    },
    {
     "data": {
      "image/png": "[encoded data removed]",
      "text/plain": [
       "<Figure size 1152x720 with 1 Axes>"
      ]
     },
     "metadata": {
      "needs_background": "light"
     },
     "output_type": "display_data"
    }
   ],
   "source": [
    "# Next, we look at the number of unique songs each user has listened to.\n",
    "\n",
    "unq = df.groupby('num_unq').sum()['is_churn']\n",
    "unq = unq / totusers * 100\n",
    "plt.figure(figsize = (16,10))\n",
    "plt.bar(list(unq.index), list(unq))\n",
    "plt.xlabel('Number of unique songs')\n",
    "plt.ylabel('% of total users that .churned')\n",
    "plt.xlim([0,250])\n",
    "\n",
    "# There's a spike in churned users that only listen to around 40-50 unique songs."
   ]
  },
  {
   "cell_type": "code",
   "execution_count": 40,
   "id": "49164a52",
   "metadata": {},
   "outputs": [
    {
     "data": {
      "text/plain": [
       "([<matplotlib.axis.XTick at 0x1750eea3880>,\n",
       "  <matplotlib.axis.XTick at 0x1750eea3850>],\n",
       " [Text(0, 0, '0'), Text(1, 0, '1')])"
      ]
     },
     "execution_count": 40,
     "metadata": {},
     "output_type": "execute_result"
    },
    {
     "data": {
      "image/png": "[encoded data removed]",
      "text/plain": [
       "<Figure size 432x288 with 1 Axes>"
      ]
     },
     "metadata": {
      "needs_background": "light"
     },
     "output_type": "display_data"
    }
   ],
   "source": [
    "# Next, we look at auto-renewal.\n",
    "\n",
    "autorenew = df.groupby('is_auto_renew').sum()['is_churn']\n",
    "autorenew = autorenew / totusers *100\n",
    "plt.bar(list(autorenew.index), list(autorenew))\n",
    "plt.xlabel('Users that Autorenewed')\n",
    "plt.ylabel('% of total users that churned')\n",
    "plt.xticks(ticks = [0,1])\n",
    "\n",
    "# No visible correlation to churn rate."
   ]
  },
  {
   "cell_type": "code",
   "execution_count": 41,
   "id": "af554763",
   "metadata": {},
   "outputs": [
    {
     "data": {
      "text/plain": [
       "([<matplotlib.axis.XTick at 0x1750fdd3670>,\n",
       "  <matplotlib.axis.XTick at 0x1750fdd3640>],\n",
       " [Text(0, 0, '0'), Text(1, 0, '1')])"
      ]
     },
     "execution_count": 41,
     "metadata": {},
     "output_type": "execute_result"
    },
    {
     "data": {
      "image/png": "[encoded data removed]",
      "text/plain": [
       "<Figure size 432x288 with 1 Axes>"
      ]
     },
     "metadata": {
      "needs_background": "light"
     },
     "output_type": "display_data"
    }
   ],
   "source": [
    "# Next, we'll look at users that actively canceled their subscription.\n",
    "\n",
    "cancel = df.groupby('is_cancel').sum()['is_churn']\n",
    "cancel = cancel / totusers * 100\n",
    "plt.bar(list(cancel.index), list(cancel))\n",
    "plt.xlabel('Users that cancelled subscription')\n",
    "plt.ylabel('% of total users that churned')\n",
    "plt.xticks(ticks = [0,1])\n",
    "\n",
    "# It's unusal that users that cancel were less likely to churn. It may be due \n",
    "# to the fact that cancellations are due to a change in subscription plan."
   ]
  },
  {
   "cell_type": "code",
   "execution_count": 44,
   "id": "67e5689f",
   "metadata": {},
   "outputs": [
    {
     "data": {
      "image/png": "[encoded data removed]",
      "text/plain": [
       "<Figure size 432x288 with 1 Axes>"
      ]
     },
     "metadata": {
      "needs_background": "light"
     },
     "output_type": "display_data"
    }
   ],
   "source": [
    "# Next, we'll look at registration method.\n",
    "\n",
    "reg = df.groupby('registered_via').sum()['is_churn'] / totusers *100\n",
    "\n",
    "plt.bar(reg.index, reg.values)\n",
    "plt.xlabel('registered via')\n",
    "plt.ylabel('% of total users that churned')\n",
    "plt.xticks(rotation= 'vertical')\n",
    "plt.show()\n",
    "\n",
    "# Those who registered with methods 7 and 9 appeared to have churned more often\n",
    "# than users who registered via other methods."
   ]
  },
  {
   "cell_type": "code",
   "execution_count": 45,
   "id": "10945173",
   "metadata": {},
   "outputs": [
    {
     "data": {
      "image/png": "[encoded data removed]",
      "text/plain": [
       "<Figure size 1152x720 with 1 Axes>"
      ]
     },
     "metadata": {
      "needs_background": "light"
     },
     "output_type": "display_data"
    }
   ],
   "source": [
    "# Next, we'll look at latest membership expiration.\n",
    "\n",
    "expire = df.groupby('latest_membership_expiration').sum()['is_churn'] / totusers *100\n",
    "plt.figure(figsize = (16,10))\n",
    "plt.bar(expire.index, expire.values)\n",
    "plt.xlabel('expire date')\n",
    "plt.ylabel('% of total users that churned')\n",
    "plt.xticks(rotation= 'vertical')\n",
    "plt.xlim([datetime.date(2017, 2, 28), datetime.date(2018, 7,1)])\n",
    "plt.ylim([0,0.12])\n",
    "plt.show()\n",
    "\n",
    "# We see a large spike in user churn when membership expiration date falls in \n",
    "# the April timeframe. This may be due to there being more entries for April users."
   ]
  },
  {
   "cell_type": "code",
   "execution_count": 50,
   "id": "fa378714",
   "metadata": {},
   "outputs": [
    {
     "data": {
      "image/png": "[encoded data removed]",
      "text/plain": [
       "<Figure size 1152x432 with 1 Axes>"
      ]
     },
     "metadata": {
      "needs_background": "light"
     },
     "output_type": "display_data"
    }
   ],
   "source": [
    "# Next, transaction data.\n",
    "\n",
    "transaction = df.groupby('latest_transaction').sum()['is_churn'] / totusers *100\n",
    "plt.figure(figsize = (16,6))\n",
    "plt.bar(transaction.index, transaction.values)\n",
    "plt.xlabel('transaction date')\n",
    "plt.ylabel('% of total users that churned')\n",
    "plt.xticks(rotation= 'vertical')\n",
    "plt.xlim([datetime.date(2016, 12, 29), datetime.date(2017, 4,5)])\n",
    "plt.show()\n",
    "\n",
    "# Again, there is a large spike in user churn in March. This may be due to\n",
    "# there being more transaction entries in March. This also aligns with\n",
    "# our April expiration date spike since most users choose monthly subscription \n",
    "# plans."
   ]
  },
  {
   "cell_type": "code",
   "execution_count": 51,
   "id": "29729c4d",
   "metadata": {},
   "outputs": [
    {
     "data": {
      "image/png": "[encoded data removed]",
      "text/plain": [
       "<Figure size 432x288 with 1 Axes>"
      ]
     },
     "metadata": {
      "needs_background": "light"
     },
     "output_type": "display_data"
    }
   ],
   "source": [
    "# Next, we'll look at registration date by year.\n",
    "\n",
    "df['year'] = pd.to_datetime(df['registration_init_time']).dt.to_period('Y')\n",
    "df['year'] = df.year.astype(str)\n",
    "regtime = df.groupby('year').sum()['is_churn'] / totusers *100\n",
    "plt.bar(regtime.index, regtime.values)\n",
    "plt.xlabel('registration time')\n",
    "plt.ylabel('% of total users that churned')\n",
    "plt.xticks(rotation= 'vertical')\n",
    "plt.show()\n",
    "\n",
    "# The data shows a high spike in user churn leading up to 2017."
   ]
  },
  {
   "cell_type": "code",
   "execution_count": 55,
   "id": "f54e2377",
   "metadata": {},
   "outputs": [
    {
     "data": {
      "text/plain": [
       "[Text(0, 0, '0-99.799 NTD'),\n",
       " Text(1, 0, '99.80-149.242 NTD'),\n",
       " Text(2, 0, '149.243-149.764 NTD'),\n",
       " Text(3, 0, '>149.765 NTD')]"
      ]
     },
     "execution_count": 55,
     "metadata": {},
     "output_type": "execute_result"
    },
    {
     "data": {
      "image/png": "[encoded data removed]",
      "text/plain": [
       "<Figure size 432x288 with 1 Axes>"
      ]
     },
     "metadata": {
      "needs_background": "light"
     },
     "output_type": "display_data"
    }
   ],
   "source": [
    "# Next, I'll use the qcut function again to see if there is any correlation between\n",
    "# actual amount paid and user churn, which is highly likely.\n",
    "df['actual_amount_rand'] = df['actual_amount_paid'].apply(lambda x: x + np.random.random())\n",
    "df['aaprqcut'] = pd.qcut(x= df[\"actual_amount_rand\"], q = 4,duplicates = 'drop')\n",
    "x = sns.countplot(x = 'aaprqcut', data = df)\n",
    "x.set_xticklabels(labels = ['0-99.799 NTD','99.80-149.242 NTD','149.243-149.764 NTD','>149.765 NTD'],rotation = 90)"
   ]
  },
  {
   "cell_type": "code",
   "execution_count": 56,
   "id": "0789b936",
   "metadata": {},
   "outputs": [
    {
     "data": {
      "text/plain": [
       "([0, 1, 2, 3],\n",
       " [Text(0, 0, '(-0.000741, 99.799]'),\n",
       "  Text(1, 0, '(149.242, 149.765]'),\n",
       "  Text(2, 0, '(149.765, 2000.928]'),\n",
       "  Text(3, 0, '(99.799, 149.242]')])"
      ]
     },
     "execution_count": 56,
     "metadata": {},
     "output_type": "execute_result"
    },
    {
     "data": {
      "image/png": "[encoded data removed]",
      "text/plain": [
       "<Figure size 432x288 with 1 Axes>"
      ]
     },
     "metadata": {
      "needs_background": "light"
     },
     "output_type": "display_data"
    }
   ],
   "source": [
    "df['aaprqcut'] = df.aaprqcut.astype(str)\n",
    "aaprqcut = df.groupby('aaprqcut').sum()['is_churn'] /totusers *100\n",
    "\n",
    "x = plt.bar(aaprqcut.index, aaprqcut.values)\n",
    "plt.xlabel('Actual amount paid')\n",
    "plt.ylabel('% of total users that churned')\n",
    "plt.xticks(rotation= 'vertical')\n",
    "\n",
    "# Users that pay more are more likely to churn. This aligns with our previous\n",
    "# analysis of total membership duration. In other words, longer memberships =\n",
    "# higher amount paid = higher churn rate"
   ]
  },
  {
   "cell_type": "code",
   "execution_count": 57,
   "id": "43f4dddb",
   "metadata": {},
   "outputs": [
    {
     "data": {
      "text/plain": [
       "<AxesSubplot: title={'center': 'Distribution of Actual Amount Paid'}, xlabel='Actual Amount paid', ylabel='Frequency'>"
      ]
     },
     "execution_count": 57,
     "metadata": {},
     "output_type": "execute_result"
    },
    {
     "data": {
      "image/png": "[encoded data removed]",
      "text/plain": [
       "<Figure size 432x288 with 1 Axes>"
      ]
     },
     "metadata": {
      "needs_background": "light"
     },
     "output_type": "display_data"
    }
   ],
   "source": [
    "# Plotting the histogram of actual amount paid shows that those who pay more than\n",
    "# 150 Taiwan dollars make up less than 25% of our dataset.\n",
    "\n",
    "plt.title('Distribution of Actual Amount Paid')\n",
    "plt.xlabel('Actual Amount paid')\n",
    "df.loc[df['actual_amount_paid'] < 250, 'actual_amount_paid'].plot.hist(bins = 30, width = 20)"
   ]
  },
  {
   "cell_type": "code",
   "execution_count": 58,
   "id": "e9439196",
   "metadata": {},
   "outputs": [
    {
     "data": {
      "text/plain": [
       "[Text(0.5, 0, 'Payment plan days'), Text(0, 0.5, 'count')]"
      ]
     },
     "execution_count": 58,
     "metadata": {},
     "output_type": "execute_result"
    },
    {
     "data": {
      "image/png": "[encoded data removed]",
      "text/plain": [
       "<Figure size 504x432 with 1 Axes>"
      ]
     },
     "metadata": {
      "needs_background": "light"
     },
     "output_type": "display_data"
    }
   ],
   "source": [
    "# Next, we'll look at payment plan days. I will utilize the qcut function again.\n",
    "\n",
    "df['ppdrqcut'] = df['payment_plan_days'].apply(lambda x: x + np.random.random())\n",
    "\n",
    "df['ppdrqcut'] = pd.qcut(x= df[\"ppdrqcut\"], q = 4,duplicates = 'drop', labels = ['1-30.256 days','30.257-30.513 days'\n",
    "                                                                                , '30.514-30.768 days','> 30.768 days'])\n",
    "df['ppdrqcut'] = df.ppdrqcut.astype(str)\n",
    "plt.figure(figsize=(7,6))\n",
    "plt.xlabel('payment plan days')\n",
    "ax = sns.countplot(x = 'ppdrqcut', data = df)\n",
    "ax.set(xlabel = 'Payment plan days', ylabel = 'count')"
   ]
  },
  {
   "cell_type": "code",
   "execution_count": 59,
   "id": "d2d58ec4",
   "metadata": {},
   "outputs": [
    {
     "data": {
      "image/png": "[encoded data removed]",
      "text/plain": [
       "<Figure size 432x288 with 1 Axes>"
      ]
     },
     "metadata": {
      "needs_background": "light"
     },
     "output_type": "display_data"
    }
   ],
   "source": [
    "ppd = df.groupby('ppdrqcut').sum()['is_churn'] /totusers *100\n",
    "plt.bar(ppd.index, ppd.values)\n",
    "plt.xlabel('Payment Plan Days')\n",
    "plt.ylabel('Churn rate %')\n",
    "plt.xticks(rotation= 'vertical')\n",
    "plt.show()\n",
    "\n",
    "# Users that opt for payment plans longer than 30 days are more likely to churn,\n",
    "# which is to be expected. There's a trend showing that to users who opt for\n",
    "# longer memberships are more likley to churn than users who choose have shorter\n",
    "# memberships."
   ]
  },
  {
   "cell_type": "code",
   "execution_count": 60,
   "id": "d8432ac8",
   "metadata": {},
   "outputs": [
    {
     "data": {
      "image/png": "[encoded data removed]",
      "text/plain": [
       "<Figure size 432x288 with 1 Axes>"
      ]
     },
     "metadata": {
      "needs_background": "light"
     },
     "output_type": "display_data"
    }
   ],
   "source": [
    "# Next, we'll look at cities.\n",
    "\n",
    "city = df.groupby('city').sum()['is_churn'] / totusers * 100\n",
    "plt.bar(np.arange(len(list(city.index))), list(city))\n",
    "plt.xlabel('city')\n",
    "plt.ylabel('% of total users that churned')\n",
    "plt.show()\n",
    "\n",
    "# Users in city 0 (the exact city is unknown to us) are more likely to churn."
   ]
  },
  {
   "cell_type": "code",
   "execution_count": 45,
   "id": "b7aa92e4",
   "metadata": {},
   "outputs": [
    {
     "data": {
      "text/plain": [
       "<AxesSubplot: xlabel='is_churn', ylabel='total_secs'>"
      ]
     },
     "execution_count": 45,
     "metadata": {},
     "output_type": "execute_result"
    },
    {
     "data": {
      "image/png": "[encoded data removed]",
      "text/plain": [
       "<Figure size 432x288 with 1 Axes>"
      ]
     },
     "metadata": {
      "needs_background": "light"
     },
     "output_type": "display_data"
    }
   ],
   "source": [
    "# Next, we'll look at total secs vs churn rate.\n",
    "\n",
    "sns.barplot(x = df.is_churn, y= df.total_secs)\n",
    "\n",
    "# No visible correlation here."
   ]
  },
  {
   "cell_type": "code",
   "execution_count": 18,
   "id": "77a53773",
   "metadata": {},
   "outputs": [
    {
     "data": {
      "text/plain": [
       "<AxesSubplot: xlabel='is_churn', ylabel='percent_25'>"
      ]
     },
     "execution_count": 18,
     "metadata": {},
     "output_type": "execute_result"
    },
    {
     "data": {
      "image/png": "[encoded data removed]",
      "text/plain": [
       "<Figure size 432x288 with 1 Axes>"
      ]
     },
     "metadata": {
      "needs_background": "light"
     },
     "output_type": "display_data"
    }
   ],
   "source": [
    "# Next, we'll look at all percentages vs churn rate.\n",
    "\n",
    "sns.barplot(x = df.is_churn, y = df.percent_25)"
   ]
  },
  {
   "cell_type": "code",
   "execution_count": 19,
   "id": "bc25e503",
   "metadata": {},
   "outputs": [
    {
     "data": {
      "text/plain": [
       "<AxesSubplot: xlabel='is_churn', ylabel='percent_50'>"
      ]
     },
     "execution_count": 19,
     "metadata": {},
     "output_type": "execute_result"
    },
    {
     "data": {
      "image/png": "[encoded data removed]",
      "text/plain": [
       "<Figure size 432x288 with 1 Axes>"
      ]
     },
     "metadata": {
      "needs_background": "light"
     },
     "output_type": "display_data"
    }
   ],
   "source": [
    "sns.barplot(x = df.is_churn, y = df.percent_50)"
   ]
  },
  {
   "cell_type": "code",
   "execution_count": 20,
   "id": "918b29ff",
   "metadata": {},
   "outputs": [
    {
     "data": {
      "text/plain": [
       "<AxesSubplot: xlabel='is_churn', ylabel='percent_100'>"
      ]
     },
     "execution_count": 20,
     "metadata": {},
     "output_type": "execute_result"
    },
    {
     "data": {
      "image/png": "[encoded data removed]",
      "text/plain": [
       "<Figure size 432x288 with 1 Axes>"
      ]
     },
     "metadata": {
      "needs_background": "light"
     },
     "output_type": "display_data"
    }
   ],
   "source": [
    "sns.barplot(x = df.is_churn, y = df.percent_100)\n",
    "\n",
    "# No visible correlations between song completion percentage and churn rate."
   ]
  },
  {
   "cell_type": "code",
   "execution_count": 65,
   "id": "19d62bb3",
   "metadata": {},
   "outputs": [
    {
     "data": {
      "text/plain": [
       "<AxesSubplot: >"
      ]
     },
     "execution_count": 65,
     "metadata": {},
     "output_type": "execute_result"
    },
    {
     "data": {
      "image/png": "[encoded data removed]",
      "text/plain": [
       "<Figure size 432x288 with 2 Axes>"
      ]
     },
     "metadata": {
      "needs_background": "light"
     },
     "output_type": "display_data"
    }
   ],
   "source": [
    "# For good measure, let's take a look at the heatmap to see if there are any \n",
    "# other correlations we may be missing.\n",
    "\n",
    "num = df[['is_churn','payment_plan_days','sum_membership_duration','num_unq','actual_amount_paid','total_secs','percent_25','percent_50','percent_100']]\n",
    "num\n",
    "sns.heatmap(num.corr(),cmap = 'coolwarm')"
   ]
  },
  {
   "cell_type": "markdown",
   "id": "22f2ff45",
   "metadata": {},
   "source": [
    "Conclusions: We see a couple of interesting trends here. Users with longer memberships have a higher churn rate than users with short memberships. In other words, users that opt for payment plans greater than 30 days are likely to churn. Listening history also seems to correlate with churn rate. \n",
    "\n",
    "It is possible that focusing on retaining long-term users will be the most effective strategy to help reduce churn rate."
   ]
  },
  {
   "cell_type": "markdown",
   "id": "40715864",
   "metadata": {},
   "source": [
    "# Step 3: Preprocessing/Model building"
   ]
  },
  {
   "cell_type": "code",
   "execution_count": 4,
   "id": "78c8877f",
   "metadata": {},
   "outputs": [],
   "source": [
    "from sklearn.model_selection import train_test_split, cross_validate, GridSearchCV, learning_curve\n",
    "from sklearn.feature_selection import SelectKBest, f_regression\n",
    "from sklearn.ensemble import RandomForestClassifier\n",
    "from sklearn.metrics import precision_recall_curve\n",
    "from sklearn.pipeline import make_pipeline, Pipeline\n",
    "from sklearn.model_selection import StratifiedKFold, KFold\n",
    "from sklearn.linear_model import LogisticRegression\n",
    "from sklearn.metrics import accuracy_score, f1_score, roc_auc_score\n",
    "from sklearn.metrics import classification_report\n",
    "from sklearn.metrics import confusion_matrix\n",
    "from sklearn.metrics import ConfusionMatrixDisplay\n",
    "from sklearn.preprocessing import StandardScaler\n",
    "from sklearn.model_selection import GridSearchCV, RandomizedSearchCV\n",
    "from sklearn.model_selection import cross_val_score\n",
    "from xgboost import XGBClassifier"
   ]
  },
  {
   "cell_type": "code",
   "execution_count": 5,
   "id": "0ab38291",
   "metadata": {},
   "outputs": [
    {
     "name": "stderr",
     "output_type": "stream",
     "text": [
      "C:\\Users\\marsh\\AppData\\Local\\Temp/ipykernel_17036/1875495377.py:6: FutureWarning: Series.dt.weekofyear and Series.dt.week have been deprecated. Please use Series.dt.isocalendar().week instead.\n",
      "  df['latest_transaction_week'] = df['latest_transaction'].dt.week\n",
      "C:\\Users\\marsh\\AppData\\Local\\Temp/ipykernel_17036/1875495377.py:11: FutureWarning: Series.dt.weekofyear and Series.dt.week have been deprecated. Please use Series.dt.isocalendar().week instead.\n",
      "  df['latest_membership_expiration_week'] = df['latest_membership_expiration'].dt.week\n",
      "C:\\Users\\marsh\\AppData\\Local\\Temp/ipykernel_17036/1875495377.py:16: FutureWarning: Series.dt.weekofyear and Series.dt.week have been deprecated. Please use Series.dt.isocalendar().week instead.\n",
      "  df['latest_listen_date_week'] = df['latest_listen_date'].dt.week\n",
      "C:\\Users\\marsh\\AppData\\Local\\Temp/ipykernel_17036/1875495377.py:21: FutureWarning: Series.dt.weekofyear and Series.dt.week have been deprecated. Please use Series.dt.isocalendar().week instead.\n",
      "  df['registration_init_time_week'] = df['registration_init_time'].dt.week\n"
     ]
    }
   ],
   "source": [
    "df = pd.read_csv('Capstone updated 126023.csv', parse_dates = ['latest_transaction','latest_membership_expiration','latest_listen_date','registration_init_time'])\n",
    "# Process dates for our model.\n",
    "\n",
    "df['latest_transaction_year'] = df['latest_transaction'].dt.year\n",
    "df['latest_transaction_month'] = df['latest_transaction'].dt.month\n",
    "df['latest_transaction_week'] = df['latest_transaction'].dt.week\n",
    "df['latest_transaction_day'] = df['latest_transaction'].dt.day\n",
    "\n",
    "df['latest_membership_expiration_year'] = df['latest_membership_expiration'].dt.year\n",
    "df['latest_membership_expiration_month'] = df['latest_membership_expiration'].dt.month\n",
    "df['latest_membership_expiration_week'] = df['latest_membership_expiration'].dt.week\n",
    "df['latest_membership_expiration_day'] = df['latest_membership_expiration'].dt.day\n",
    "\n",
    "df['latest_listen_date_year'] = df['latest_listen_date'].dt.year\n",
    "df['latest_listen_date_month'] = df['latest_listen_date'].dt.month\n",
    "df['latest_listen_date_week'] = df['latest_listen_date'].dt.week\n",
    "df['latest_listen_date_day'] = df['latest_listen_date'].dt.day\n",
    "\n",
    "df['registration_init_time_year'] = df['registration_init_time'].dt.year\n",
    "df['registration_init_time_month'] = df['registration_init_time'].dt.month\n",
    "df['registration_init_time_week'] = df['registration_init_time'].dt.week\n",
    "df['registration_init_time_day'] = df['registration_init_time'].dt.day\n",
    "\n",
    "df = df.drop(columns = ['latest_transaction','latest_membership_expiration','latest_listen_date','registration_init_time'])"
   ]
  },
  {
   "cell_type": "code",
   "execution_count": 7,
   "id": "ee830763",
   "metadata": {},
   "outputs": [],
   "source": [
    "# Divide our train and test data, then scale/transform using a Standard Scaler.\n",
    "X = df.drop(columns = ['is_churn','msno'])\n",
    "y = df['is_churn']\n",
    "\n",
    "X_train, X_test, y_train, y_test = train_test_split(X,y,random_state = 42, stratify = y)\n",
    "scaler = StandardScaler().fit(X_train)\n",
    "X_train_scaled=scaler.transform(X_train)\n",
    "X_test_scaled=scaler.transform(X_test)"
   ]
  },
  {
   "cell_type": "code",
   "execution_count": 73,
   "id": "b365eb9c",
   "metadata": {},
   "outputs": [],
   "source": [
    "# I'll test the performance of three models: A Random Forest, Logistic \n",
    "# Regression, and Extreme Gradient Boost. Let's try the Random Forest first.\n",
    "\n",
    "from sklearn.ensemble import RandomForestClassifier\n",
    "clf = RandomForestClassifier(n_estimators=500, random_state = 42,n_jobs=-1)\n",
    "model_res = clf.fit(X_train_scaled, y_train)\n",
    "y_pred = model_res.predict(X_test_scaled)"
   ]
  },
  {
   "cell_type": "code",
   "execution_count": 75,
   "id": "2296299e",
   "metadata": {},
   "outputs": [
    {
     "data": {
      "text/plain": [
       "{'standardscaler': StandardScaler(),\n",
       " 'classifier__n_estimators': 100,\n",
       " 'classifier__max_features': 'auto',\n",
       " 'classifier__max_depth': 20}"
      ]
     },
     "execution_count": 75,
     "metadata": {},
     "output_type": "execute_result"
    }
   ],
   "source": [
    "# Use cross-validation to determine the best hyperparameters.\n",
    "\n",
    "max_depth = [6,10,20]\n",
    "n_estimators = [10,50,100]\n",
    "max_features = ['auto','sqrt']\n",
    "max_depth,n_estimators\n",
    "\n",
    "rfc_pipe = Pipeline(\n",
    "steps = [('standardscaler', StandardScaler()),\n",
    "('classifier', RandomForestClassifier())])\n",
    "\n",
    "\n",
    "grid_params = {'standardscaler': [StandardScaler(),None],\n",
    "               'classifier__n_estimators' : n_estimators,\n",
    "               'classifier__max_depth': max_depth,\n",
    "              'classifier__max_features': max_features\n",
    "}\n",
    "\n",
    "rfc_grid_cv = RandomizedSearchCV(rfc_pipe, param_distributions = grid_params, cv = StratifiedKFold(5), n_jobs = -1, scoring = 'f1')\n",
    "model = rfc_grid_cv.fit(X_train,y_train)\n",
    "model.best_params_"
   ]
  },
  {
   "cell_type": "code",
   "execution_count": 53,
   "id": "1a780ecc",
   "metadata": {},
   "outputs": [
    {
     "name": "stdout",
     "output_type": "stream",
     "text": [
      "              precision    recall  f1-score   support\n",
      "\n",
      "           0       0.99      1.00      1.00    509339\n",
      "           1       1.00      0.88      0.94     34952\n",
      "\n",
      "    accuracy                           0.99    544291\n",
      "   macro avg       0.99      0.94      0.97    544291\n",
      "weighted avg       0.99      0.99      0.99    544291\n",
      "\n",
      "              precision    recall  f1-score   support\n",
      "\n",
      "           0       0.99      1.00      0.99    169780\n",
      "           1       0.94      0.84      0.89     11651\n",
      "\n",
      "    accuracy                           0.99    181431\n",
      "   macro avg       0.96      0.92      0.94    181431\n",
      "weighted avg       0.99      0.99      0.99    181431\n",
      "\n"
     ]
    },
    {
     "data": {
      "text/plain": [
       "(None, None)"
      ]
     },
     "execution_count": 53,
     "metadata": {},
     "output_type": "execute_result"
    }
   ],
   "source": [
    "# Let's fit our data using these parameters and print the classification report.\n",
    "# The best metric to determine performance will be F1 score since we want to \n",
    "# focus on true positive labels.\n",
    "\n",
    "tune_rfc = RandomForestClassifier(n_estimators=100, max_features = 'auto', max_depth = 20, random_state = 42,n_jobs=-1)\n",
    "\n",
    "    \n",
    "model_res = tune_rfc.fit(X_train_scaled, y_train)\n",
    "y_pred = model_res.predict(X_test_scaled)\n",
    "cm = confusion_matrix(y_test, y_pred)\n",
    "\n",
    "y_pred_test = tune_rfc.predict(X_test_scaled)\n",
    "y_pred_train = tune_rfc.predict(X_train_scaled)\n",
    "print(classification_report(y_train, y_pred_train)), print(classification_report(y_test,y_pred_test))"
   ]
  },
  {
   "cell_type": "code",
   "execution_count": 61,
   "id": "33e62c02",
   "metadata": {},
   "outputs": [
    {
     "data": {
      "image/png": "[encoded data removed]",
      "text/plain": [
       "<Figure size 720x576 with 1 Axes>"
      ]
     },
     "metadata": {
      "needs_background": "light"
     },
     "output_type": "display_data"
    }
   ],
   "source": [
    "# Here I create a function to plot feature importance.\n",
    "\n",
    "def plot_feature_importance(importance,names,model_type):\n",
    "    feature_importance = np.array(importance)\n",
    "    feature_names = np.array(names)\n",
    "    data={'feature_names':feature_names,'feature_importance':feature_importance}\n",
    "    fi_df = pd.DataFrame(data)\n",
    "    fi_df.sort_values(by=['feature_importance'], ascending=False,inplace=True)\n",
    "    plt.figure(figsize=(10,8))\n",
    "    sns.barplot(x=fi_df['feature_importance'], y=fi_df['feature_names'])\n",
    "    plt.title(model_type + ' FEATURE IMPORTANCE')\n",
    "    plt.xlabel('FEATURE IMPORTANCE')\n",
    "    plt.ylabel('FEATURE NAMES')\n",
    "    \n",
    "plot_feature_importance(model_res.feature_importances_,X_train.columns, 'RANDOM FOREST')\n",
    "\n",
    "# We can see that as expected, membership duration and payments are the top features in determining\n",
    "# churn rate for the random forest."
   ]
  },
  {
   "cell_type": "code",
   "execution_count": 78,
   "id": "b30d313d",
   "metadata": {},
   "outputs": [
    {
     "data": {
      "text/plain": [
       "<sklearn.metrics._plot.confusion_matrix.ConfusionMatrixDisplay at 0x1751d675fd0>"
      ]
     },
     "execution_count": 78,
     "metadata": {},
     "output_type": "execute_result"
    },
    {
     "data": {
      "image/png": "[encoded data removed]",
      "text/plain": [
       "<Figure size 720x720 with 2 Axes>"
      ]
     },
     "metadata": {
      "needs_background": "light"
     },
     "output_type": "display_data"
    }
   ],
   "source": [
    "# Let's plot the confusion matrix.\n",
    "\n",
    "cm = confusion_matrix(y_test, y_pred, labels = tune_rfc.classes_)\n",
    "fig, ax = plt.subplots(figsize = (10,10))\n",
    "display_cm = ConfusionMatrixDisplay(confusion_matrix = cm, \n",
    "                                    display_labels = ['no churn', 'churn'],\n",
    "                                   )\n",
    "ax.set_xticks([0, 1])\n",
    "ax.set_yticks([0, 1])\n",
    "ax.set_xticklabels(labels = ['no churn', 'churn'], fontsize = 8)\n",
    "ax.set_yticklabels(labels = ['no churn', 'churn'], fontsize = 8)\n",
    "display_cm.plot(ax = ax)\n",
    "\n",
    "# Not bad! Our Random Forest has an F1 score of 89, and correctly predicts 9794 \n",
    "# churned users."
   ]
  },
  {
   "cell_type": "code",
   "execution_count": 79,
   "id": "4c7c4738",
   "metadata": {},
   "outputs": [
    {
     "data": {
      "text/plain": [
       "<matplotlib.legend.Legend at 0x1752f200fa0>"
      ]
     },
     "execution_count": 79,
     "metadata": {},
     "output_type": "execute_result"
    },
    {
     "data": {
      "image/png": "[encoded data removed]",
      "text/plain": [
       "<Figure size 720x720 with 1 Axes>"
      ]
     },
     "metadata": {
      "needs_background": "light"
     },
     "output_type": "display_data"
    }
   ],
   "source": [
    "# Plotting the Precision-Recall curve for the Random Forest shows this is a\n",
    "# good model in terms of performance.\n",
    "model = RandomForestClassifier( n_estimators=100, random_state = 42, max_depth = 20, max_features = 'auto',\n",
    "                             n_jobs=-1)\n",
    "model = model.fit(X_train_scaled,y_train)\n",
    "plt.figure(figsize=(10,10))\n",
    "rf_probs = model.predict_proba(X_test_scaled)\n",
    "rf_probs = rf_probs[:,1]\n",
    "rf_precision, rf_recall, _ = precision_recall_curve(y_test, rf_probs)\n",
    "no_skill = len(y_test[y_test == 1]) / len(y_test)\n",
    "plt.plot([0, 1], [no_skill, no_skill], linestyle='--', label='No Skill')\n",
    "plt.plot(rf_recall, rf_precision, marker='.', label='Random Forest')\n",
    "plt.xlabel('Recall')\n",
    "plt.ylabel('Precision')\n",
    "plt.legend()"
   ]
  },
  {
   "cell_type": "code",
   "execution_count": 80,
   "id": "817a4792",
   "metadata": {},
   "outputs": [],
   "source": [
    "# Now let's try Logistic Regression.\n",
    "\n",
    "\n",
    "lr = LogisticRegression(solver = 'liblinear', max_iter = 500)\n",
    "model_res = lr.fit(X_train_scaled, y_train)\n",
    "y_pred = model_res.predict(X_test_scaled)"
   ]
  },
  {
   "cell_type": "code",
   "execution_count": 81,
   "id": "23dab8f0",
   "metadata": {},
   "outputs": [
    {
     "name": "stderr",
     "output_type": "stream",
     "text": [
      "C:\\Users\\marsh\\anaconda3\\lib\\site-packages\\sklearn\\model_selection\\_search.py:922: UserWarning: One or more of the test scores are non-finite: [       nan 0.65832827 0.65832836 0.59064345 0.49693225 0.49805532\n",
      "        nan 0.64731155 0.65845913 0.4962348 ]\n",
      "  warnings.warn(\n"
     ]
    },
    {
     "data": {
      "text/plain": [
       "{'standardscaler': StandardScaler(),\n",
       " 'classifier__solver': 'newton-cg',\n",
       " 'classifier__C': 10}"
      ]
     },
     "execution_count": 81,
     "metadata": {},
     "output_type": "execute_result"
    }
   ],
   "source": [
    "# Use Randomized Search cross validation to determine the best hyperparameters.\n",
    "\n",
    "C = [100,10,1.0,0.1,0.01]\n",
    "solver = ['newton-cg','lbfgx','liblinear']\n",
    "\n",
    "\n",
    "lr_pipe = Pipeline(\n",
    "steps = [('standardscaler', StandardScaler()),\n",
    "('classifier', LogisticRegression())])\n",
    "\n",
    "\n",
    "grid_params = {'standardscaler': [StandardScaler(),None],\n",
    "               'classifier__C' : C,\n",
    "               'classifier__solver': solver\n",
    "}\n",
    "\n",
    "lr_grid_cv = RandomizedSearchCV(lr_pipe, param_distributions = grid_params, cv = StratifiedKFold(5), n_jobs = -1, scoring = 'f1')\n",
    "model = lr_grid_cv.fit(X_train,y_train)\n",
    "model.best_params_"
   ]
  },
  {
   "cell_type": "code",
   "execution_count": 82,
   "id": "4a59741f",
   "metadata": {},
   "outputs": [
    {
     "name": "stdout",
     "output_type": "stream",
     "text": [
      "              precision    recall  f1-score   support\n",
      "\n",
      "           0       0.97      0.99      0.98    509339\n",
      "           1       0.85      0.54      0.66     34952\n",
      "\n",
      "    accuracy                           0.96    544291\n",
      "   macro avg       0.91      0.77      0.82    544291\n",
      "weighted avg       0.96      0.96      0.96    544291\n",
      "\n",
      "              precision    recall  f1-score   support\n",
      "\n",
      "           0       0.97      0.99      0.98    169780\n",
      "           1       0.84      0.53      0.65     11651\n",
      "\n",
      "    accuracy                           0.96    181431\n",
      "   macro avg       0.91      0.76      0.82    181431\n",
      "weighted avg       0.96      0.96      0.96    181431\n",
      "\n"
     ]
    },
    {
     "data": {
      "text/plain": [
       "(None, None)"
      ]
     },
     "execution_count": 82,
     "metadata": {},
     "output_type": "execute_result"
    }
   ],
   "source": [
    "# Fit the model with above hyperparameters.\n",
    "\n",
    "tune_lr = LogisticRegression(solver = 'newton-cg', C = 10, random_state = 42,n_jobs=-1)\n",
    "\n",
    "    \n",
    "model_res = tune_lr.fit(X_train_scaled, y_train)\n",
    "y_pred = model_res.predict(X_test_scaled)\n",
    "cm = confusion_matrix(y_test, y_pred)\n",
    "\n",
    "y_pred_test = tune_lr.predict(X_test_scaled)\n",
    "y_pred_train = tune_lr.predict(X_train_scaled)\n",
    "print(classification_report(y_train, y_pred_train)), print(classification_report(y_test,y_pred_test))\n",
    "\n",
    "# We show a huge dip in performance for the Logistic Regression model. A PR\n",
    "# curve and confusion matrix reinforces this."
   ]
  },
  {
   "cell_type": "code",
   "execution_count": 83,
   "id": "a43608ab",
   "metadata": {},
   "outputs": [
    {
     "data": {
      "text/plain": [
       "<sklearn.metrics._plot.confusion_matrix.ConfusionMatrixDisplay at 0x17556bd6ac0>"
      ]
     },
     "execution_count": 83,
     "metadata": {},
     "output_type": "execute_result"
    },
    {
     "data": {
      "image/png": "[encoded data removed]",
      "text/plain": [
       "<Figure size 720x720 with 2 Axes>"
      ]
     },
     "metadata": {
      "needs_background": "light"
     },
     "output_type": "display_data"
    }
   ],
   "source": [
    "cm = confusion_matrix(y_test, y_pred_test, labels = lr.classes_)\n",
    "fig, ax = plt.subplots(figsize = (10,10))\n",
    "display_cm = ConfusionMatrixDisplay(confusion_matrix = cm, \n",
    "                                    display_labels = ['no churn', 'churn'])\n",
    "ax.set_xticks([0, 1])\n",
    "ax.set_yticks([0, 1])\n",
    "ax.set_xticklabels(labels = ['no churn', 'churn'], fontsize = 8)\n",
    "ax.set_yticklabels(labels = ['no churn', 'churn'], fontsize = 8)\n",
    "display_cm.plot(ax = ax)\n",
    "\n",
    "# The model only correctly predicts 6229 churn users."
   ]
  },
  {
   "cell_type": "code",
   "execution_count": 85,
   "id": "4ffa6f54",
   "metadata": {},
   "outputs": [
    {
     "data": {
      "text/plain": [
       "<matplotlib.legend.Legend at 0x17537fb4c70>"
      ]
     },
     "execution_count": 85,
     "metadata": {},
     "output_type": "execute_result"
    },
    {
     "data": {
      "image/png": "[encoded data removed]",
      "text/plain": [
       "<Figure size 720x720 with 1 Axes>"
      ]
     },
     "metadata": {
      "needs_background": "light"
     },
     "output_type": "display_data"
    }
   ],
   "source": [
    "model = tune_lr.fit(X_train_scaled,y_train)\n",
    "plt.figure(figsize=(10,10))\n",
    "lr_probs = model.predict_proba(X_test_scaled)\n",
    "lr_probs = lr_probs[:,1]\n",
    "lr_precision, lr_recall, _ = precision_recall_curve(y_test, lr_probs)\n",
    "no_skill = len(y_test[y_test == 1]) / len(y_test)\n",
    "plt.plot([0, 1], [no_skill, no_skill], linestyle='--', label='No Skill')\n",
    "plt.plot(lr_recall, lr_precision, marker='.', label='Logistic')\n",
    "plt.xlabel('Recall')\n",
    "plt.ylabel('Precision')\n",
    "plt.legend()"
   ]
  },
  {
   "cell_type": "code",
   "execution_count": 86,
   "id": "4d1fb81c",
   "metadata": {},
   "outputs": [],
   "source": [
    "# Lastly, let's try an Extreme Gradient Boost.\n",
    "xgb = XGBClassifier()\n",
    "model = xgb.fit(X_train_scaled, y_train)\n",
    "y_pred = model.predict(X_train_scaled)\n"
   ]
  },
  {
   "cell_type": "code",
   "execution_count": 87,
   "id": "912c448d",
   "metadata": {},
   "outputs": [
    {
     "data": {
      "text/plain": [
       "{'standardscaler': None,\n",
       " 'classifier__n_estimators': 100,\n",
       " 'classifier__min_child_weight': 1,\n",
       " 'classifier__max_depth': 20}"
      ]
     },
     "execution_count": 87,
     "metadata": {},
     "output_type": "execute_result"
    }
   ],
   "source": [
    "max_depth = [6,10,20]\n",
    "n_estimators = [10,100,1000]\n",
    "min_child_weight = [1,5,100]\n",
    "max_depth,n_estimators\n",
    "\n",
    "xgb_pipe = Pipeline(\n",
    "steps = [('standardscaler', StandardScaler()),\n",
    "('classifier', XGBClassifier())])\n",
    "\n",
    "\n",
    "grid_params = {'standardscaler': [StandardScaler(),None],\n",
    "               'classifier__n_estimators' : n_estimators,\n",
    "               'classifier__max_depth': max_depth,\n",
    "               'classifier__min_child_weight': min_child_weight\n",
    "}\n",
    "\n",
    "xgb_grid_cv = RandomizedSearchCV(xgb_pipe, param_distributions = grid_params, cv = StratifiedKFold(5), n_jobs = -1, scoring = 'f1')\n",
    "model = xgb_grid_cv.fit(X_train,y_train)\n",
    "model.best_params_"
   ]
  },
  {
   "cell_type": "code",
   "execution_count": 46,
   "id": "f064d6cc",
   "metadata": {},
   "outputs": [
    {
     "name": "stdout",
     "output_type": "stream",
     "text": [
      "              precision    recall  f1-score   support\n",
      "\n",
      "           0       1.00      1.00      1.00    509339\n",
      "           1       1.00      1.00      1.00     34952\n",
      "\n",
      "    accuracy                           1.00    544291\n",
      "   macro avg       1.00      1.00      1.00    544291\n",
      "weighted avg       1.00      1.00      1.00    544291\n",
      "\n",
      "              precision    recall  f1-score   support\n",
      "\n",
      "           0       0.99      0.99      0.99    169780\n",
      "           1       0.91      0.88      0.90     11651\n",
      "\n",
      "    accuracy                           0.99    181431\n",
      "   macro avg       0.95      0.94      0.94    181431\n",
      "weighted avg       0.99      0.99      0.99    181431\n",
      "\n"
     ]
    }
   ],
   "source": [
    "# After fitting the model with the above hyperparameters, we see that the XGB\n",
    "# performs slightly better than the random forest.\n",
    "\n",
    "tune_xgb = XGBClassifier(n_estimators = 100, min_child_weight = 1, max_depth = 20, \n",
    "                             random_state = 42)\n",
    "tune_model = tune_xgb.fit(X_train_scaled, y_train)\n",
    "y_pred_test = tune_model.predict(X_test_scaled)\n",
    "y_pred_train = tune_model.predict(X_train_scaled)\n",
    "print(classification_report(y_train, y_pred_train)), print(classification_report(y_test,y_pred_test))\n",
    "\n",
    "model = tune_xgb.fit(X_train,y_train)"
   ]
  },
  {
   "cell_type": "code",
   "execution_count": 89,
   "id": "8ccf0fc0",
   "metadata": {},
   "outputs": [
    {
     "data": {
      "text/plain": [
       "<sklearn.metrics._plot.confusion_matrix.ConfusionMatrixDisplay at 0x175322acca0>"
      ]
     },
     "execution_count": 89,
     "metadata": {},
     "output_type": "execute_result"
    },
    {
     "data": {
      "image/png": "[encoded data removed]",
      "text/plain": [
       "<Figure size 720x720 with 2 Axes>"
      ]
     },
     "metadata": {
      "needs_background": "light"
     },
     "output_type": "display_data"
    }
   ],
   "source": [
    "# Let's also plot the confusion matrix and PR curve for good measure.\n",
    "\n",
    "cm = confusion_matrix(y_test, y_pred_test, labels = xgb.classes_)\n",
    "fig, ax = plt.subplots(figsize =(10,10))\n",
    "display_cm = ConfusionMatrixDisplay(confusion_matrix = cm, \n",
    "                                    display_labels = ['no churn', 'churn'])\n",
    "ax.set_xticks([0, 1])\n",
    "ax.set_yticks([0, 1])\n",
    "ax.set_xticklabels(labels = ['no churn', 'churn'], fontsize = 8)\n",
    "ax.set_yticklabels(labels = ['no churn', 'churn'], fontsize = 8)\n",
    "display_cm.plot(ax = ax)"
   ]
  },
  {
   "cell_type": "code",
   "execution_count": 26,
   "id": "218e1a7e",
   "metadata": {},
   "outputs": [
    {
     "data": {
      "text/plain": [
       "<matplotlib.legend.Legend at 0x1f1c73bf7f0>"
      ]
     },
     "execution_count": 26,
     "metadata": {},
     "output_type": "execute_result"
    },
    {
     "data": {
      "image/png": "[encoded data removed]",
      "text/plain": [
       "<Figure size 720x720 with 1 Axes>"
      ]
     },
     "metadata": {
      "needs_background": "light"
     },
     "output_type": "display_data"
    }
   ],
   "source": [
    "plt.figure(figsize=(10,10))\n",
    "model = XGBClassifier(n_estimators = 100, min_child_weight = 1, max_depth = 20, \n",
    "                             random_state = 42)\n",
    "model = model.fit(X_train_scaled,y_train)\n",
    "\n",
    "xgb_probs = model.predict_proba(X_test_scaled)\n",
    "xgb_probs = xgb_probs[:,1]\n",
    "xgb_precision, xgb_recall, _ = precision_recall_curve(y_test, xgb_probs)\n",
    "no_skill = len(y_test[y_test == 1]) / len(y_test)\n",
    "plt.plot([0, 1], [no_skill, no_skill], linestyle='--', label='No Skill')\n",
    "plt.plot(xgb_recall, xgb_precision, marker='.', label='XGB')\n",
    "plt.xlabel('Recall')\n",
    "plt.ylabel('Precision')\n",
    "plt.legend()\n"
   ]
  },
  {
   "cell_type": "code",
   "execution_count": 47,
   "id": "2ef40c9f",
   "metadata": {},
   "outputs": [],
   "source": [
    "# Plot the feature importances. We see that total membership duration is highly correlated with \n",
    "# churn rate, as expected after EDA.\n",
    "\n",
    "scaler = StandardScaler()\n",
    "scaler.fit(X_train)\n",
    "X_train = pd.DataFrame(scaler.transform(X_train), columns = X_train.columns)\n",
    "X_test = pd.DataFrame(scaler.transform(X_test), columns = X_test.columns)\n",
    "\n",
    "tune_xgb = XGBClassifier(n_estimators = 100, min_child_weight = 1, max_depth = 20, \n",
    "                             random_state = 42)\n",
    "tune_model = tune_xgb.fit(X_train, y_train)\n",
    "\n"
   ]
  },
  {
   "cell_type": "code",
   "execution_count": 3,
   "id": "c2038a04",
   "metadata": {},
   "outputs": [
    {
     "data": {
      "text/html": [
       "<div>\n",
       "<style scoped>\n",
       "    .dataframe tbody tr th:only-of-type {\n",
       "        vertical-align: middle;\n",
       "    }\n",
       "\n",
       "    .dataframe tbody tr th {\n",
       "        vertical-align: top;\n",
       "    }\n",
       "\n",
       "    .dataframe thead th {\n",
       "        text-align: right;\n",
       "    }\n",
       "</style>\n",
       "<table border=\"1\" class=\"dataframe\">\n",
       "  <thead>\n",
       "    <tr style=\"text-align: right;\">\n",
       "      <th></th>\n",
       "      <th>Model</th>\n",
       "      <th>Precision</th>\n",
       "      <th>Recall</th>\n",
       "      <th>f1-score</th>\n",
       "    </tr>\n",
       "  </thead>\n",
       "  <tbody>\n",
       "    <tr>\n",
       "      <th>0</th>\n",
       "      <td>Random Forest</td>\n",
       "      <td>0.94</td>\n",
       "      <td>0.84</td>\n",
       "      <td>0.89</td>\n",
       "    </tr>\n",
       "    <tr>\n",
       "      <th>1</th>\n",
       "      <td>Logistic Regression</td>\n",
       "      <td>0.84</td>\n",
       "      <td>0.53</td>\n",
       "      <td>0.65</td>\n",
       "    </tr>\n",
       "    <tr>\n",
       "      <th>2</th>\n",
       "      <td>XGB</td>\n",
       "      <td>0.91</td>\n",
       "      <td>0.88</td>\n",
       "      <td>0.90</td>\n",
       "    </tr>\n",
       "  </tbody>\n",
       "</table>\n",
       "</div>"
      ],
      "text/plain": [
       "                 Model  Precision  Recall  f1-score\n",
       "0        Random Forest       0.94    0.84      0.89\n",
       "1  Logistic Regression       0.84    0.53      0.65\n",
       "2                  XGB       0.91    0.88      0.90"
      ]
     },
     "execution_count": 3,
     "metadata": {},
     "output_type": "execute_result"
    }
   ],
   "source": [
    "# Let's record all test scores on a table.\n",
    "\n",
    "scores = {'Model': ['Random Forest','Logistic Regression', 'XGB'], 'Precision': [0.94,0.84,0.91], 'Recall': [0.84,0.53,0.88], 'f1-score' : [0.89,0.65,0.90]}\n",
    "scores = pd.DataFrame(scores)\n",
    "scores"
   ]
  },
  {
   "cell_type": "code",
   "execution_count": 59,
   "id": "c17ce930",
   "metadata": {},
   "outputs": [
    {
     "data": {
      "image/png": "[encoded data removed]",
      "text/plain": [
       "<Figure size 720x576 with 1 Axes>"
      ]
     },
     "metadata": {
      "needs_background": "light"
     },
     "output_type": "display_data"
    }
   ],
   "source": [
    "# Similar to the random forest, let's plot the feature importances for our XGB model.\n",
    "\n",
    "plot_feature_importance(tune_model.feature_importances_,X_train.columns, 'XGB')\n",
    "\n",
    "# We see here that it considers payment plan days as the most important feature by far when\n",
    "# determining user churn. Total membership comes in at fourth , and actual amount paid is surprisingly\n",
    "# low at seventh. Even though this is surprising, I'll still be going with XGB since it has a \n",
    "# higher recall score."
   ]
  },
  {
   "cell_type": "markdown",
   "id": "ed619cd5",
   "metadata": {},
   "source": [
    "Conclusions: Since we are focusing on true positive rate, I decided to go with the Extreme Gradient Boosted model due to its higher F1 and recall scores. The feature importances line up with our preliminary analysis in that the top three features that affect user churn are payment plan days, total membership duration, and actual amount paid. Now I'll test this model using brand new data, which is also taken from the same Kaggle post."
   ]
  },
  {
   "cell_type": "markdown",
   "id": "150fa239",
   "metadata": {},
   "source": [
    "# Step 4: Predict churn using new data"
   ]
  },
  {
   "cell_type": "code",
   "execution_count": 152,
   "id": "13c47499",
   "metadata": {},
   "outputs": [
    {
     "data": {
      "text/html": [
       "<div>\n",
       "<style scoped>\n",
       "    .dataframe tbody tr th:only-of-type {\n",
       "        vertical-align: middle;\n",
       "    }\n",
       "\n",
       "    .dataframe tbody tr th {\n",
       "        vertical-align: top;\n",
       "    }\n",
       "\n",
       "    .dataframe thead th {\n",
       "        text-align: right;\n",
       "    }\n",
       "</style>\n",
       "<table border=\"1\" class=\"dataframe\">\n",
       "  <thead>\n",
       "    <tr style=\"text-align: right;\">\n",
       "      <th></th>\n",
       "      <th>msno</th>\n",
       "      <th>payment_method_id</th>\n",
       "      <th>payment_plan_days</th>\n",
       "      <th>plan_list_price</th>\n",
       "      <th>actual_amount_paid</th>\n",
       "      <th>is_auto_renew</th>\n",
       "      <th>is_cancel</th>\n",
       "      <th>sum_membership_duration</th>\n",
       "      <th>avg_time_between_transactions</th>\n",
       "      <th>num_unq</th>\n",
       "      <th>total_secs</th>\n",
       "      <th>percent_25</th>\n",
       "      <th>percent_50</th>\n",
       "      <th>percent_100</th>\n",
       "      <th>city</th>\n",
       "      <th>registered_via</th>\n",
       "      <th>latest_transaction_year</th>\n",
       "      <th>latest_transaction_month</th>\n",
       "      <th>latest_transaction_week</th>\n",
       "      <th>latest_transaction_day</th>\n",
       "      <th>latest_membership_expiration_year</th>\n",
       "      <th>latest_membership_expiration_month</th>\n",
       "      <th>latest_membership_expiration_week</th>\n",
       "      <th>latest_membership_expiration_day</th>\n",
       "      <th>latest_listen_date_year</th>\n",
       "      <th>latest_listen_date_month</th>\n",
       "      <th>latest_listen_date_week</th>\n",
       "      <th>latest_listen_date_day</th>\n",
       "      <th>registration_init_time_year</th>\n",
       "      <th>registration_init_time_month</th>\n",
       "      <th>registration_init_time_week</th>\n",
       "      <th>registration_init_time_day</th>\n",
       "    </tr>\n",
       "  </thead>\n",
       "  <tbody>\n",
       "    <tr>\n",
       "      <th>0</th>\n",
       "      <td>++jbV49/2rayAbDFcuc17mtZklsc9Ob/kHmGQfsTrLI=</td>\n",
       "      <td>41.0</td>\n",
       "      <td>30.0</td>\n",
       "      <td>99.0</td>\n",
       "      <td>99.0</td>\n",
       "      <td>1.0</td>\n",
       "      <td>0.0</td>\n",
       "      <td>474</td>\n",
       "      <td>197.000000</td>\n",
       "      <td>246.0</td>\n",
       "      <td>28328.795</td>\n",
       "      <td>0.668354</td>\n",
       "      <td>0.060759</td>\n",
       "      <td>0.245570</td>\n",
       "      <td>1.0</td>\n",
       "      <td>7.0</td>\n",
       "      <td>2017</td>\n",
       "      <td>3</td>\n",
       "      <td>10</td>\n",
       "      <td>10</td>\n",
       "      <td>2017</td>\n",
       "      <td>4</td>\n",
       "      <td>17</td>\n",
       "      <td>27</td>\n",
       "      <td>2017</td>\n",
       "      <td>3</td>\n",
       "      <td>13</td>\n",
       "      <td>30</td>\n",
       "      <td>2011</td>\n",
       "      <td>10</td>\n",
       "      <td>42</td>\n",
       "      <td>19</td>\n",
       "    </tr>\n",
       "    <tr>\n",
       "      <th>1</th>\n",
       "      <td>++kosgi4V03jOxcBKjM/9tPignUOxcc7jBVnZLJ+lX0=</td>\n",
       "      <td>41.0</td>\n",
       "      <td>30.0</td>\n",
       "      <td>149.0</td>\n",
       "      <td>149.0</td>\n",
       "      <td>1.0</td>\n",
       "      <td>0.0</td>\n",
       "      <td>61</td>\n",
       "      <td>4.666667</td>\n",
       "      <td>42.0</td>\n",
       "      <td>121449.944</td>\n",
       "      <td>0.241727</td>\n",
       "      <td>0.063309</td>\n",
       "      <td>0.656115</td>\n",
       "      <td>1.0</td>\n",
       "      <td>7.0</td>\n",
       "      <td>2017</td>\n",
       "      <td>3</td>\n",
       "      <td>12</td>\n",
       "      <td>24</td>\n",
       "      <td>2017</td>\n",
       "      <td>4</td>\n",
       "      <td>16</td>\n",
       "      <td>23</td>\n",
       "      <td>2017</td>\n",
       "      <td>3</td>\n",
       "      <td>13</td>\n",
       "      <td>31</td>\n",
       "      <td>2015</td>\n",
       "      <td>7</td>\n",
       "      <td>28</td>\n",
       "      <td>10</td>\n",
       "    </tr>\n",
       "    <tr>\n",
       "      <th>2</th>\n",
       "      <td>+0KcMm8JNCW08lTp3Lyz5Ger/47u3yj9H2xLf8lyAj8=</td>\n",
       "      <td>41.0</td>\n",
       "      <td>30.0</td>\n",
       "      <td>149.0</td>\n",
       "      <td>149.0</td>\n",
       "      <td>1.0</td>\n",
       "      <td>0.0</td>\n",
       "      <td>15643</td>\n",
       "      <td>36.894737</td>\n",
       "      <td>22.0</td>\n",
       "      <td>29609.154</td>\n",
       "      <td>0.057971</td>\n",
       "      <td>0.007246</td>\n",
       "      <td>0.927536</td>\n",
       "      <td>1.0</td>\n",
       "      <td>7.0</td>\n",
       "      <td>2017</td>\n",
       "      <td>3</td>\n",
       "      <td>11</td>\n",
       "      <td>13</td>\n",
       "      <td>2018</td>\n",
       "      <td>9</td>\n",
       "      <td>37</td>\n",
       "      <td>13</td>\n",
       "      <td>2017</td>\n",
       "      <td>3</td>\n",
       "      <td>13</td>\n",
       "      <td>30</td>\n",
       "      <td>2013</td>\n",
       "      <td>3</td>\n",
       "      <td>11</td>\n",
       "      <td>13</td>\n",
       "    </tr>\n",
       "    <tr>\n",
       "      <th>3</th>\n",
       "      <td>+0QQxbBbymdYyBxpsY6/LrijzjL/Qte1eej3g/v+wWw=</td>\n",
       "      <td>41.0</td>\n",
       "      <td>30.0</td>\n",
       "      <td>149.0</td>\n",
       "      <td>149.0</td>\n",
       "      <td>1.0</td>\n",
       "      <td>0.0</td>\n",
       "      <td>1041</td>\n",
       "      <td>162.333333</td>\n",
       "      <td>98.0</td>\n",
       "      <td>352087.011</td>\n",
       "      <td>0.038920</td>\n",
       "      <td>0.006905</td>\n",
       "      <td>0.953547</td>\n",
       "      <td>1.0</td>\n",
       "      <td>7.0</td>\n",
       "      <td>2017</td>\n",
       "      <td>3</td>\n",
       "      <td>13</td>\n",
       "      <td>31</td>\n",
       "      <td>2017</td>\n",
       "      <td>5</td>\n",
       "      <td>18</td>\n",
       "      <td>4</td>\n",
       "      <td>2017</td>\n",
       "      <td>3</td>\n",
       "      <td>13</td>\n",
       "      <td>31</td>\n",
       "      <td>2010</td>\n",
       "      <td>12</td>\n",
       "      <td>51</td>\n",
       "      <td>21</td>\n",
       "    </tr>\n",
       "    <tr>\n",
       "      <th>4</th>\n",
       "      <td>+0hXEuyLuw+Kgfa4BUz8v3R27ZmWPWKSktfe9twCVhA=</td>\n",
       "      <td>41.0</td>\n",
       "      <td>30.0</td>\n",
       "      <td>149.0</td>\n",
       "      <td>149.0</td>\n",
       "      <td>1.0</td>\n",
       "      <td>0.0</td>\n",
       "      <td>61</td>\n",
       "      <td>2.333333</td>\n",
       "      <td>14.0</td>\n",
       "      <td>20225.056</td>\n",
       "      <td>0.250000</td>\n",
       "      <td>0.075000</td>\n",
       "      <td>0.625000</td>\n",
       "      <td>1.0</td>\n",
       "      <td>7.0</td>\n",
       "      <td>2017</td>\n",
       "      <td>3</td>\n",
       "      <td>10</td>\n",
       "      <td>8</td>\n",
       "      <td>2017</td>\n",
       "      <td>4</td>\n",
       "      <td>14</td>\n",
       "      <td>7</td>\n",
       "      <td>2017</td>\n",
       "      <td>3</td>\n",
       "      <td>13</td>\n",
       "      <td>31</td>\n",
       "      <td>2016</td>\n",
       "      <td>1</td>\n",
       "      <td>53</td>\n",
       "      <td>2</td>\n",
       "    </tr>\n",
       "    <tr>\n",
       "      <th>...</th>\n",
       "      <td>...</td>\n",
       "      <td>...</td>\n",
       "      <td>...</td>\n",
       "      <td>...</td>\n",
       "      <td>...</td>\n",
       "      <td>...</td>\n",
       "      <td>...</td>\n",
       "      <td>...</td>\n",
       "      <td>...</td>\n",
       "      <td>...</td>\n",
       "      <td>...</td>\n",
       "      <td>...</td>\n",
       "      <td>...</td>\n",
       "      <td>...</td>\n",
       "      <td>...</td>\n",
       "      <td>...</td>\n",
       "      <td>...</td>\n",
       "      <td>...</td>\n",
       "      <td>...</td>\n",
       "      <td>...</td>\n",
       "      <td>...</td>\n",
       "      <td>...</td>\n",
       "      <td>...</td>\n",
       "      <td>...</td>\n",
       "      <td>...</td>\n",
       "      <td>...</td>\n",
       "      <td>...</td>\n",
       "      <td>...</td>\n",
       "      <td>...</td>\n",
       "      <td>...</td>\n",
       "      <td>...</td>\n",
       "      <td>...</td>\n",
       "    </tr>\n",
       "    <tr>\n",
       "      <th>700207</th>\n",
       "      <td>zzxIjlrMxRzNVDD6XqUDRBqkWn7OJ9mzFmFQlfLtLCE=</td>\n",
       "      <td>36.0</td>\n",
       "      <td>30.0</td>\n",
       "      <td>180.0</td>\n",
       "      <td>180.0</td>\n",
       "      <td>1.0</td>\n",
       "      <td>0.0</td>\n",
       "      <td>33</td>\n",
       "      <td>0.000000</td>\n",
       "      <td>11.0</td>\n",
       "      <td>9333.516</td>\n",
       "      <td>0.203704</td>\n",
       "      <td>0.185185</td>\n",
       "      <td>0.555556</td>\n",
       "      <td>1.0</td>\n",
       "      <td>4.0</td>\n",
       "      <td>2017</td>\n",
       "      <td>3</td>\n",
       "      <td>9</td>\n",
       "      <td>5</td>\n",
       "      <td>2017</td>\n",
       "      <td>4</td>\n",
       "      <td>14</td>\n",
       "      <td>7</td>\n",
       "      <td>2017</td>\n",
       "      <td>3</td>\n",
       "      <td>13</td>\n",
       "      <td>31</td>\n",
       "      <td>2017</td>\n",
       "      <td>3</td>\n",
       "      <td>9</td>\n",
       "      <td>5</td>\n",
       "    </tr>\n",
       "    <tr>\n",
       "      <th>700208</th>\n",
       "      <td>zzxZeMFx2fjfKZigMnJa2w0EmloDbm8+8nTf/o/00GY=</td>\n",
       "      <td>41.0</td>\n",
       "      <td>30.0</td>\n",
       "      <td>99.0</td>\n",
       "      <td>99.0</td>\n",
       "      <td>1.0</td>\n",
       "      <td>0.0</td>\n",
       "      <td>31</td>\n",
       "      <td>0.000000</td>\n",
       "      <td>40.0</td>\n",
       "      <td>13172.171</td>\n",
       "      <td>0.033333</td>\n",
       "      <td>0.000000</td>\n",
       "      <td>0.966667</td>\n",
       "      <td>4.0</td>\n",
       "      <td>7.0</td>\n",
       "      <td>2017</td>\n",
       "      <td>3</td>\n",
       "      <td>12</td>\n",
       "      <td>26</td>\n",
       "      <td>2017</td>\n",
       "      <td>4</td>\n",
       "      <td>17</td>\n",
       "      <td>26</td>\n",
       "      <td>2017</td>\n",
       "      <td>3</td>\n",
       "      <td>10</td>\n",
       "      <td>10</td>\n",
       "      <td>2012</td>\n",
       "      <td>3</td>\n",
       "      <td>10</td>\n",
       "      <td>6</td>\n",
       "    </tr>\n",
       "    <tr>\n",
       "      <th>700209</th>\n",
       "      <td>zzy7iqSpfcRq7R4hmKKuhI+CJRs79a6pteqEggpiNO0=</td>\n",
       "      <td>36.0</td>\n",
       "      <td>30.0</td>\n",
       "      <td>180.0</td>\n",
       "      <td>180.0</td>\n",
       "      <td>0.0</td>\n",
       "      <td>0.0</td>\n",
       "      <td>32</td>\n",
       "      <td>0.000000</td>\n",
       "      <td>56.0</td>\n",
       "      <td>268039.763</td>\n",
       "      <td>0.094642</td>\n",
       "      <td>0.048017</td>\n",
       "      <td>0.825331</td>\n",
       "      <td>5.0</td>\n",
       "      <td>3.0</td>\n",
       "      <td>2017</td>\n",
       "      <td>2</td>\n",
       "      <td>9</td>\n",
       "      <td>28</td>\n",
       "      <td>2017</td>\n",
       "      <td>4</td>\n",
       "      <td>13</td>\n",
       "      <td>1</td>\n",
       "      <td>2017</td>\n",
       "      <td>3</td>\n",
       "      <td>13</td>\n",
       "      <td>31</td>\n",
       "      <td>2015</td>\n",
       "      <td>4</td>\n",
       "      <td>18</td>\n",
       "      <td>30</td>\n",
       "    </tr>\n",
       "    <tr>\n",
       "      <th>700210</th>\n",
       "      <td>zzyHq6TK2+cBkeGFUHvh12Z7UxFZiSM7dOOSllSBPDw=</td>\n",
       "      <td>29.0</td>\n",
       "      <td>30.0</td>\n",
       "      <td>180.0</td>\n",
       "      <td>180.0</td>\n",
       "      <td>0.0</td>\n",
       "      <td>0.0</td>\n",
       "      <td>30</td>\n",
       "      <td>0.000000</td>\n",
       "      <td>158.0</td>\n",
       "      <td>477846.789</td>\n",
       "      <td>0.007892</td>\n",
       "      <td>0.003714</td>\n",
       "      <td>0.985144</td>\n",
       "      <td>9.0</td>\n",
       "      <td>7.0</td>\n",
       "      <td>2017</td>\n",
       "      <td>3</td>\n",
       "      <td>10</td>\n",
       "      <td>11</td>\n",
       "      <td>2017</td>\n",
       "      <td>4</td>\n",
       "      <td>15</td>\n",
       "      <td>10</td>\n",
       "      <td>2017</td>\n",
       "      <td>3</td>\n",
       "      <td>13</td>\n",
       "      <td>31</td>\n",
       "      <td>2013</td>\n",
       "      <td>5</td>\n",
       "      <td>20</td>\n",
       "      <td>15</td>\n",
       "    </tr>\n",
       "    <tr>\n",
       "      <th>700211</th>\n",
       "      <td>zzzF1KsGfHH3qI6qiSNSXC35UXmVKMVFdxkp7xmDMc0=</td>\n",
       "      <td>40.0</td>\n",
       "      <td>30.0</td>\n",
       "      <td>149.0</td>\n",
       "      <td>149.0</td>\n",
       "      <td>1.0</td>\n",
       "      <td>0.0</td>\n",
       "      <td>30</td>\n",
       "      <td>0.000000</td>\n",
       "      <td>44.0</td>\n",
       "      <td>59525.679</td>\n",
       "      <td>0.040816</td>\n",
       "      <td>0.004082</td>\n",
       "      <td>0.951020</td>\n",
       "      <td>4.0</td>\n",
       "      <td>3.0</td>\n",
       "      <td>2017</td>\n",
       "      <td>3</td>\n",
       "      <td>9</td>\n",
       "      <td>5</td>\n",
       "      <td>2017</td>\n",
       "      <td>4</td>\n",
       "      <td>14</td>\n",
       "      <td>4</td>\n",
       "      <td>2017</td>\n",
       "      <td>3</td>\n",
       "      <td>13</td>\n",
       "      <td>28</td>\n",
       "      <td>2017</td>\n",
       "      <td>1</td>\n",
       "      <td>4</td>\n",
       "      <td>29</td>\n",
       "    </tr>\n",
       "  </tbody>\n",
       "</table>\n",
       "<p>700212 rows × 32 columns</p>\n",
       "</div>"
      ],
      "text/plain": [
       "                                                msno  payment_method_id  \\\n",
       "0       ++jbV49/2rayAbDFcuc17mtZklsc9Ob/kHmGQfsTrLI=               41.0   \n",
       "1       ++kosgi4V03jOxcBKjM/9tPignUOxcc7jBVnZLJ+lX0=               41.0   \n",
       "2       +0KcMm8JNCW08lTp3Lyz5Ger/47u3yj9H2xLf8lyAj8=               41.0   \n",
       "3       +0QQxbBbymdYyBxpsY6/LrijzjL/Qte1eej3g/v+wWw=               41.0   \n",
       "4       +0hXEuyLuw+Kgfa4BUz8v3R27ZmWPWKSktfe9twCVhA=               41.0   \n",
       "...                                              ...                ...   \n",
       "700207  zzxIjlrMxRzNVDD6XqUDRBqkWn7OJ9mzFmFQlfLtLCE=               36.0   \n",
       "700208  zzxZeMFx2fjfKZigMnJa2w0EmloDbm8+8nTf/o/00GY=               41.0   \n",
       "700209  zzy7iqSpfcRq7R4hmKKuhI+CJRs79a6pteqEggpiNO0=               36.0   \n",
       "700210  zzyHq6TK2+cBkeGFUHvh12Z7UxFZiSM7dOOSllSBPDw=               29.0   \n",
       "700211  zzzF1KsGfHH3qI6qiSNSXC35UXmVKMVFdxkp7xmDMc0=               40.0   \n",
       "\n",
       "        payment_plan_days  plan_list_price  actual_amount_paid  is_auto_renew  \\\n",
       "0                    30.0             99.0                99.0            1.0   \n",
       "1                    30.0            149.0               149.0            1.0   \n",
       "2                    30.0            149.0               149.0            1.0   \n",
       "3                    30.0            149.0               149.0            1.0   \n",
       "4                    30.0            149.0               149.0            1.0   \n",
       "...                   ...              ...                 ...            ...   \n",
       "700207               30.0            180.0               180.0            1.0   \n",
       "700208               30.0             99.0                99.0            1.0   \n",
       "700209               30.0            180.0               180.0            0.0   \n",
       "700210               30.0            180.0               180.0            0.0   \n",
       "700211               30.0            149.0               149.0            1.0   \n",
       "\n",
       "        is_cancel  sum_membership_duration  avg_time_between_transactions  \\\n",
       "0             0.0                      474                     197.000000   \n",
       "1             0.0                       61                       4.666667   \n",
       "2             0.0                    15643                      36.894737   \n",
       "3             0.0                     1041                     162.333333   \n",
       "4             0.0                       61                       2.333333   \n",
       "...           ...                      ...                            ...   \n",
       "700207        0.0                       33                       0.000000   \n",
       "700208        0.0                       31                       0.000000   \n",
       "700209        0.0                       32                       0.000000   \n",
       "700210        0.0                       30                       0.000000   \n",
       "700211        0.0                       30                       0.000000   \n",
       "\n",
       "        num_unq  total_secs  percent_25  percent_50  percent_100  city  \\\n",
       "0         246.0   28328.795    0.668354    0.060759     0.245570   1.0   \n",
       "1          42.0  121449.944    0.241727    0.063309     0.656115   1.0   \n",
       "2          22.0   29609.154    0.057971    0.007246     0.927536   1.0   \n",
       "3          98.0  352087.011    0.038920    0.006905     0.953547   1.0   \n",
       "4          14.0   20225.056    0.250000    0.075000     0.625000   1.0   \n",
       "...         ...         ...         ...         ...          ...   ...   \n",
       "700207     11.0    9333.516    0.203704    0.185185     0.555556   1.0   \n",
       "700208     40.0   13172.171    0.033333    0.000000     0.966667   4.0   \n",
       "700209     56.0  268039.763    0.094642    0.048017     0.825331   5.0   \n",
       "700210    158.0  477846.789    0.007892    0.003714     0.985144   9.0   \n",
       "700211     44.0   59525.679    0.040816    0.004082     0.951020   4.0   \n",
       "\n",
       "        registered_via  latest_transaction_year  latest_transaction_month  \\\n",
       "0                  7.0                     2017                         3   \n",
       "1                  7.0                     2017                         3   \n",
       "2                  7.0                     2017                         3   \n",
       "3                  7.0                     2017                         3   \n",
       "4                  7.0                     2017                         3   \n",
       "...                ...                      ...                       ...   \n",
       "700207             4.0                     2017                         3   \n",
       "700208             7.0                     2017                         3   \n",
       "700209             3.0                     2017                         2   \n",
       "700210             7.0                     2017                         3   \n",
       "700211             3.0                     2017                         3   \n",
       "\n",
       "        latest_transaction_week  latest_transaction_day  \\\n",
       "0                            10                      10   \n",
       "1                            12                      24   \n",
       "2                            11                      13   \n",
       "3                            13                      31   \n",
       "4                            10                       8   \n",
       "...                         ...                     ...   \n",
       "700207                        9                       5   \n",
       "700208                       12                      26   \n",
       "700209                        9                      28   \n",
       "700210                       10                      11   \n",
       "700211                        9                       5   \n",
       "\n",
       "        latest_membership_expiration_year  latest_membership_expiration_month  \\\n",
       "0                                    2017                                   4   \n",
       "1                                    2017                                   4   \n",
       "2                                    2018                                   9   \n",
       "3                                    2017                                   5   \n",
       "4                                    2017                                   4   \n",
       "...                                   ...                                 ...   \n",
       "700207                               2017                                   4   \n",
       "700208                               2017                                   4   \n",
       "700209                               2017                                   4   \n",
       "700210                               2017                                   4   \n",
       "700211                               2017                                   4   \n",
       "\n",
       "        latest_membership_expiration_week  latest_membership_expiration_day  \\\n",
       "0                                      17                                27   \n",
       "1                                      16                                23   \n",
       "2                                      37                                13   \n",
       "3                                      18                                 4   \n",
       "4                                      14                                 7   \n",
       "...                                   ...                               ...   \n",
       "700207                                 14                                 7   \n",
       "700208                                 17                                26   \n",
       "700209                                 13                                 1   \n",
       "700210                                 15                                10   \n",
       "700211                                 14                                 4   \n",
       "\n",
       "        latest_listen_date_year  latest_listen_date_month  \\\n",
       "0                          2017                         3   \n",
       "1                          2017                         3   \n",
       "2                          2017                         3   \n",
       "3                          2017                         3   \n",
       "4                          2017                         3   \n",
       "...                         ...                       ...   \n",
       "700207                     2017                         3   \n",
       "700208                     2017                         3   \n",
       "700209                     2017                         3   \n",
       "700210                     2017                         3   \n",
       "700211                     2017                         3   \n",
       "\n",
       "        latest_listen_date_week  latest_listen_date_day  \\\n",
       "0                            13                      30   \n",
       "1                            13                      31   \n",
       "2                            13                      30   \n",
       "3                            13                      31   \n",
       "4                            13                      31   \n",
       "...                         ...                     ...   \n",
       "700207                       13                      31   \n",
       "700208                       10                      10   \n",
       "700209                       13                      31   \n",
       "700210                       13                      31   \n",
       "700211                       13                      28   \n",
       "\n",
       "        registration_init_time_year  registration_init_time_month  \\\n",
       "0                              2011                            10   \n",
       "1                              2015                             7   \n",
       "2                              2013                             3   \n",
       "3                              2010                            12   \n",
       "4                              2016                             1   \n",
       "...                             ...                           ...   \n",
       "700207                         2017                             3   \n",
       "700208                         2012                             3   \n",
       "700209                         2015                             4   \n",
       "700210                         2013                             5   \n",
       "700211                         2017                             1   \n",
       "\n",
       "        registration_init_time_week  registration_init_time_day  \n",
       "0                                42                          19  \n",
       "1                                28                          10  \n",
       "2                                11                          13  \n",
       "3                                51                          21  \n",
       "4                                53                           2  \n",
       "...                             ...                         ...  \n",
       "700207                            9                           5  \n",
       "700208                           10                           6  \n",
       "700209                           18                          30  \n",
       "700210                           20                          15  \n",
       "700211                            4                          29  \n",
       "\n",
       "[700212 rows x 32 columns]"
      ]
     },
     "execution_count": 152,
     "metadata": {},
     "output_type": "execute_result"
    }
   ],
   "source": [
    "# I've normalized the test data in the same formats as our train data. The code will be the exact same\n",
    "# as when we cleaned the train data.\n",
    "\n",
    "test_df = pd.read_csv('test_data.csv')\n",
    "test_df"
   ]
  },
  {
   "cell_type": "code",
   "execution_count": 153,
   "id": "3a80a017",
   "metadata": {},
   "outputs": [],
   "source": [
    "test_df\n",
    "X = test_df.drop(columns = ['msno'])\n",
    "scaler = StandardScaler()\n",
    "X_scaled = scaler.fit_transform(X)\n",
    "pred = tune_model.predict(X)"
   ]
  },
  {
   "cell_type": "code",
   "execution_count": 154,
   "id": "de196d8e",
   "metadata": {},
   "outputs": [],
   "source": [
    "df_pred = {'is_churn': pred}\n",
    "df_pred = pd.DataFrame(df_pred)\n",
    "df_pred\n",
    "churn_pred = pd.concat([test_df, df_pred], axis = 1)"
   ]
  },
  {
   "cell_type": "code",
   "execution_count": 155,
   "id": "0c0a35e0",
   "metadata": {},
   "outputs": [
    {
     "data": {
      "text/plain": [
       "count    700212.000000\n",
       "mean          0.030595\n",
       "std           0.172218\n",
       "min           0.000000\n",
       "25%           0.000000\n",
       "50%           0.000000\n",
       "75%           0.000000\n",
       "max           1.000000\n",
       "Name: is_churn, dtype: float64"
      ]
     },
     "execution_count": 155,
     "metadata": {},
     "output_type": "execute_result"
    }
   ],
   "source": [
    "churn_pred.is_churn.describe()"
   ]
  },
  {
   "cell_type": "code",
   "execution_count": 156,
   "id": "248d4d4a",
   "metadata": {},
   "outputs": [
    {
     "data": {
      "text/html": [
       "<div>\n",
       "<style scoped>\n",
       "    .dataframe tbody tr th:only-of-type {\n",
       "        vertical-align: middle;\n",
       "    }\n",
       "\n",
       "    .dataframe tbody tr th {\n",
       "        vertical-align: top;\n",
       "    }\n",
       "\n",
       "    .dataframe thead th {\n",
       "        text-align: right;\n",
       "    }\n",
       "</style>\n",
       "<table border=\"1\" class=\"dataframe\">\n",
       "  <thead>\n",
       "    <tr style=\"text-align: right;\">\n",
       "      <th></th>\n",
       "      <th>msno</th>\n",
       "      <th>payment_method_id</th>\n",
       "      <th>payment_plan_days</th>\n",
       "      <th>plan_list_price</th>\n",
       "      <th>actual_amount_paid</th>\n",
       "      <th>is_auto_renew</th>\n",
       "      <th>is_cancel</th>\n",
       "      <th>sum_membership_duration</th>\n",
       "      <th>avg_time_between_transactions</th>\n",
       "      <th>num_unq</th>\n",
       "      <th>total_secs</th>\n",
       "      <th>percent_25</th>\n",
       "      <th>percent_50</th>\n",
       "      <th>percent_100</th>\n",
       "      <th>city</th>\n",
       "      <th>registered_via</th>\n",
       "      <th>latest_transaction_year</th>\n",
       "      <th>latest_transaction_month</th>\n",
       "      <th>latest_transaction_week</th>\n",
       "      <th>latest_transaction_day</th>\n",
       "      <th>latest_membership_expiration_year</th>\n",
       "      <th>latest_membership_expiration_month</th>\n",
       "      <th>latest_membership_expiration_week</th>\n",
       "      <th>latest_membership_expiration_day</th>\n",
       "      <th>latest_listen_date_year</th>\n",
       "      <th>latest_listen_date_month</th>\n",
       "      <th>latest_listen_date_week</th>\n",
       "      <th>latest_listen_date_day</th>\n",
       "      <th>registration_init_time_year</th>\n",
       "      <th>registration_init_time_month</th>\n",
       "      <th>registration_init_time_week</th>\n",
       "      <th>registration_init_time_day</th>\n",
       "      <th>is_churn</th>\n",
       "    </tr>\n",
       "  </thead>\n",
       "  <tbody>\n",
       "    <tr>\n",
       "      <th>0</th>\n",
       "      <td>++jbV49/2rayAbDFcuc17mtZklsc9Ob/kHmGQfsTrLI=</td>\n",
       "      <td>41.0</td>\n",
       "      <td>30.0</td>\n",
       "      <td>99.0</td>\n",
       "      <td>99.0</td>\n",
       "      <td>1.0</td>\n",
       "      <td>0.0</td>\n",
       "      <td>474</td>\n",
       "      <td>197.000000</td>\n",
       "      <td>246.0</td>\n",
       "      <td>28328.795</td>\n",
       "      <td>0.668354</td>\n",
       "      <td>0.060759</td>\n",
       "      <td>0.245570</td>\n",
       "      <td>1.0</td>\n",
       "      <td>7.0</td>\n",
       "      <td>2017</td>\n",
       "      <td>3</td>\n",
       "      <td>10</td>\n",
       "      <td>10</td>\n",
       "      <td>2017</td>\n",
       "      <td>4</td>\n",
       "      <td>17</td>\n",
       "      <td>27</td>\n",
       "      <td>2017</td>\n",
       "      <td>3</td>\n",
       "      <td>13</td>\n",
       "      <td>30</td>\n",
       "      <td>2011</td>\n",
       "      <td>10</td>\n",
       "      <td>42</td>\n",
       "      <td>19</td>\n",
       "      <td>0</td>\n",
       "    </tr>\n",
       "    <tr>\n",
       "      <th>1</th>\n",
       "      <td>++kosgi4V03jOxcBKjM/9tPignUOxcc7jBVnZLJ+lX0=</td>\n",
       "      <td>41.0</td>\n",
       "      <td>30.0</td>\n",
       "      <td>149.0</td>\n",
       "      <td>149.0</td>\n",
       "      <td>1.0</td>\n",
       "      <td>0.0</td>\n",
       "      <td>61</td>\n",
       "      <td>4.666667</td>\n",
       "      <td>42.0</td>\n",
       "      <td>121449.944</td>\n",
       "      <td>0.241727</td>\n",
       "      <td>0.063309</td>\n",
       "      <td>0.656115</td>\n",
       "      <td>1.0</td>\n",
       "      <td>7.0</td>\n",
       "      <td>2017</td>\n",
       "      <td>3</td>\n",
       "      <td>12</td>\n",
       "      <td>24</td>\n",
       "      <td>2017</td>\n",
       "      <td>4</td>\n",
       "      <td>16</td>\n",
       "      <td>23</td>\n",
       "      <td>2017</td>\n",
       "      <td>3</td>\n",
       "      <td>13</td>\n",
       "      <td>31</td>\n",
       "      <td>2015</td>\n",
       "      <td>7</td>\n",
       "      <td>28</td>\n",
       "      <td>10</td>\n",
       "      <td>0</td>\n",
       "    </tr>\n",
       "    <tr>\n",
       "      <th>2</th>\n",
       "      <td>+0KcMm8JNCW08lTp3Lyz5Ger/47u3yj9H2xLf8lyAj8=</td>\n",
       "      <td>41.0</td>\n",
       "      <td>30.0</td>\n",
       "      <td>149.0</td>\n",
       "      <td>149.0</td>\n",
       "      <td>1.0</td>\n",
       "      <td>0.0</td>\n",
       "      <td>15643</td>\n",
       "      <td>36.894737</td>\n",
       "      <td>22.0</td>\n",
       "      <td>29609.154</td>\n",
       "      <td>0.057971</td>\n",
       "      <td>0.007246</td>\n",
       "      <td>0.927536</td>\n",
       "      <td>1.0</td>\n",
       "      <td>7.0</td>\n",
       "      <td>2017</td>\n",
       "      <td>3</td>\n",
       "      <td>11</td>\n",
       "      <td>13</td>\n",
       "      <td>2018</td>\n",
       "      <td>9</td>\n",
       "      <td>37</td>\n",
       "      <td>13</td>\n",
       "      <td>2017</td>\n",
       "      <td>3</td>\n",
       "      <td>13</td>\n",
       "      <td>30</td>\n",
       "      <td>2013</td>\n",
       "      <td>3</td>\n",
       "      <td>11</td>\n",
       "      <td>13</td>\n",
       "      <td>0</td>\n",
       "    </tr>\n",
       "    <tr>\n",
       "      <th>3</th>\n",
       "      <td>+0QQxbBbymdYyBxpsY6/LrijzjL/Qte1eej3g/v+wWw=</td>\n",
       "      <td>41.0</td>\n",
       "      <td>30.0</td>\n",
       "      <td>149.0</td>\n",
       "      <td>149.0</td>\n",
       "      <td>1.0</td>\n",
       "      <td>0.0</td>\n",
       "      <td>1041</td>\n",
       "      <td>162.333333</td>\n",
       "      <td>98.0</td>\n",
       "      <td>352087.011</td>\n",
       "      <td>0.038920</td>\n",
       "      <td>0.006905</td>\n",
       "      <td>0.953547</td>\n",
       "      <td>1.0</td>\n",
       "      <td>7.0</td>\n",
       "      <td>2017</td>\n",
       "      <td>3</td>\n",
       "      <td>13</td>\n",
       "      <td>31</td>\n",
       "      <td>2017</td>\n",
       "      <td>5</td>\n",
       "      <td>18</td>\n",
       "      <td>4</td>\n",
       "      <td>2017</td>\n",
       "      <td>3</td>\n",
       "      <td>13</td>\n",
       "      <td>31</td>\n",
       "      <td>2010</td>\n",
       "      <td>12</td>\n",
       "      <td>51</td>\n",
       "      <td>21</td>\n",
       "      <td>0</td>\n",
       "    </tr>\n",
       "    <tr>\n",
       "      <th>4</th>\n",
       "      <td>+0hXEuyLuw+Kgfa4BUz8v3R27ZmWPWKSktfe9twCVhA=</td>\n",
       "      <td>41.0</td>\n",
       "      <td>30.0</td>\n",
       "      <td>149.0</td>\n",
       "      <td>149.0</td>\n",
       "      <td>1.0</td>\n",
       "      <td>0.0</td>\n",
       "      <td>61</td>\n",
       "      <td>2.333333</td>\n",
       "      <td>14.0</td>\n",
       "      <td>20225.056</td>\n",
       "      <td>0.250000</td>\n",
       "      <td>0.075000</td>\n",
       "      <td>0.625000</td>\n",
       "      <td>1.0</td>\n",
       "      <td>7.0</td>\n",
       "      <td>2017</td>\n",
       "      <td>3</td>\n",
       "      <td>10</td>\n",
       "      <td>8</td>\n",
       "      <td>2017</td>\n",
       "      <td>4</td>\n",
       "      <td>14</td>\n",
       "      <td>7</td>\n",
       "      <td>2017</td>\n",
       "      <td>3</td>\n",
       "      <td>13</td>\n",
       "      <td>31</td>\n",
       "      <td>2016</td>\n",
       "      <td>1</td>\n",
       "      <td>53</td>\n",
       "      <td>2</td>\n",
       "      <td>0</td>\n",
       "    </tr>\n",
       "    <tr>\n",
       "      <th>...</th>\n",
       "      <td>...</td>\n",
       "      <td>...</td>\n",
       "      <td>...</td>\n",
       "      <td>...</td>\n",
       "      <td>...</td>\n",
       "      <td>...</td>\n",
       "      <td>...</td>\n",
       "      <td>...</td>\n",
       "      <td>...</td>\n",
       "      <td>...</td>\n",
       "      <td>...</td>\n",
       "      <td>...</td>\n",
       "      <td>...</td>\n",
       "      <td>...</td>\n",
       "      <td>...</td>\n",
       "      <td>...</td>\n",
       "      <td>...</td>\n",
       "      <td>...</td>\n",
       "      <td>...</td>\n",
       "      <td>...</td>\n",
       "      <td>...</td>\n",
       "      <td>...</td>\n",
       "      <td>...</td>\n",
       "      <td>...</td>\n",
       "      <td>...</td>\n",
       "      <td>...</td>\n",
       "      <td>...</td>\n",
       "      <td>...</td>\n",
       "      <td>...</td>\n",
       "      <td>...</td>\n",
       "      <td>...</td>\n",
       "      <td>...</td>\n",
       "      <td>...</td>\n",
       "    </tr>\n",
       "    <tr>\n",
       "      <th>700207</th>\n",
       "      <td>zzxIjlrMxRzNVDD6XqUDRBqkWn7OJ9mzFmFQlfLtLCE=</td>\n",
       "      <td>36.0</td>\n",
       "      <td>30.0</td>\n",
       "      <td>180.0</td>\n",
       "      <td>180.0</td>\n",
       "      <td>1.0</td>\n",
       "      <td>0.0</td>\n",
       "      <td>33</td>\n",
       "      <td>0.000000</td>\n",
       "      <td>11.0</td>\n",
       "      <td>9333.516</td>\n",
       "      <td>0.203704</td>\n",
       "      <td>0.185185</td>\n",
       "      <td>0.555556</td>\n",
       "      <td>1.0</td>\n",
       "      <td>4.0</td>\n",
       "      <td>2017</td>\n",
       "      <td>3</td>\n",
       "      <td>9</td>\n",
       "      <td>5</td>\n",
       "      <td>2017</td>\n",
       "      <td>4</td>\n",
       "      <td>14</td>\n",
       "      <td>7</td>\n",
       "      <td>2017</td>\n",
       "      <td>3</td>\n",
       "      <td>13</td>\n",
       "      <td>31</td>\n",
       "      <td>2017</td>\n",
       "      <td>3</td>\n",
       "      <td>9</td>\n",
       "      <td>5</td>\n",
       "      <td>0</td>\n",
       "    </tr>\n",
       "    <tr>\n",
       "      <th>700208</th>\n",
       "      <td>zzxZeMFx2fjfKZigMnJa2w0EmloDbm8+8nTf/o/00GY=</td>\n",
       "      <td>41.0</td>\n",
       "      <td>30.0</td>\n",
       "      <td>99.0</td>\n",
       "      <td>99.0</td>\n",
       "      <td>1.0</td>\n",
       "      <td>0.0</td>\n",
       "      <td>31</td>\n",
       "      <td>0.000000</td>\n",
       "      <td>40.0</td>\n",
       "      <td>13172.171</td>\n",
       "      <td>0.033333</td>\n",
       "      <td>0.000000</td>\n",
       "      <td>0.966667</td>\n",
       "      <td>4.0</td>\n",
       "      <td>7.0</td>\n",
       "      <td>2017</td>\n",
       "      <td>3</td>\n",
       "      <td>12</td>\n",
       "      <td>26</td>\n",
       "      <td>2017</td>\n",
       "      <td>4</td>\n",
       "      <td>17</td>\n",
       "      <td>26</td>\n",
       "      <td>2017</td>\n",
       "      <td>3</td>\n",
       "      <td>10</td>\n",
       "      <td>10</td>\n",
       "      <td>2012</td>\n",
       "      <td>3</td>\n",
       "      <td>10</td>\n",
       "      <td>6</td>\n",
       "      <td>0</td>\n",
       "    </tr>\n",
       "    <tr>\n",
       "      <th>700209</th>\n",
       "      <td>zzy7iqSpfcRq7R4hmKKuhI+CJRs79a6pteqEggpiNO0=</td>\n",
       "      <td>36.0</td>\n",
       "      <td>30.0</td>\n",
       "      <td>180.0</td>\n",
       "      <td>180.0</td>\n",
       "      <td>0.0</td>\n",
       "      <td>0.0</td>\n",
       "      <td>32</td>\n",
       "      <td>0.000000</td>\n",
       "      <td>56.0</td>\n",
       "      <td>268039.763</td>\n",
       "      <td>0.094642</td>\n",
       "      <td>0.048017</td>\n",
       "      <td>0.825331</td>\n",
       "      <td>5.0</td>\n",
       "      <td>3.0</td>\n",
       "      <td>2017</td>\n",
       "      <td>2</td>\n",
       "      <td>9</td>\n",
       "      <td>28</td>\n",
       "      <td>2017</td>\n",
       "      <td>4</td>\n",
       "      <td>13</td>\n",
       "      <td>1</td>\n",
       "      <td>2017</td>\n",
       "      <td>3</td>\n",
       "      <td>13</td>\n",
       "      <td>31</td>\n",
       "      <td>2015</td>\n",
       "      <td>4</td>\n",
       "      <td>18</td>\n",
       "      <td>30</td>\n",
       "      <td>0</td>\n",
       "    </tr>\n",
       "    <tr>\n",
       "      <th>700210</th>\n",
       "      <td>zzyHq6TK2+cBkeGFUHvh12Z7UxFZiSM7dOOSllSBPDw=</td>\n",
       "      <td>29.0</td>\n",
       "      <td>30.0</td>\n",
       "      <td>180.0</td>\n",
       "      <td>180.0</td>\n",
       "      <td>0.0</td>\n",
       "      <td>0.0</td>\n",
       "      <td>30</td>\n",
       "      <td>0.000000</td>\n",
       "      <td>158.0</td>\n",
       "      <td>477846.789</td>\n",
       "      <td>0.007892</td>\n",
       "      <td>0.003714</td>\n",
       "      <td>0.985144</td>\n",
       "      <td>9.0</td>\n",
       "      <td>7.0</td>\n",
       "      <td>2017</td>\n",
       "      <td>3</td>\n",
       "      <td>10</td>\n",
       "      <td>11</td>\n",
       "      <td>2017</td>\n",
       "      <td>4</td>\n",
       "      <td>15</td>\n",
       "      <td>10</td>\n",
       "      <td>2017</td>\n",
       "      <td>3</td>\n",
       "      <td>13</td>\n",
       "      <td>31</td>\n",
       "      <td>2013</td>\n",
       "      <td>5</td>\n",
       "      <td>20</td>\n",
       "      <td>15</td>\n",
       "      <td>0</td>\n",
       "    </tr>\n",
       "    <tr>\n",
       "      <th>700211</th>\n",
       "      <td>zzzF1KsGfHH3qI6qiSNSXC35UXmVKMVFdxkp7xmDMc0=</td>\n",
       "      <td>40.0</td>\n",
       "      <td>30.0</td>\n",
       "      <td>149.0</td>\n",
       "      <td>149.0</td>\n",
       "      <td>1.0</td>\n",
       "      <td>0.0</td>\n",
       "      <td>30</td>\n",
       "      <td>0.000000</td>\n",
       "      <td>44.0</td>\n",
       "      <td>59525.679</td>\n",
       "      <td>0.040816</td>\n",
       "      <td>0.004082</td>\n",
       "      <td>0.951020</td>\n",
       "      <td>4.0</td>\n",
       "      <td>3.0</td>\n",
       "      <td>2017</td>\n",
       "      <td>3</td>\n",
       "      <td>9</td>\n",
       "      <td>5</td>\n",
       "      <td>2017</td>\n",
       "      <td>4</td>\n",
       "      <td>14</td>\n",
       "      <td>4</td>\n",
       "      <td>2017</td>\n",
       "      <td>3</td>\n",
       "      <td>13</td>\n",
       "      <td>28</td>\n",
       "      <td>2017</td>\n",
       "      <td>1</td>\n",
       "      <td>4</td>\n",
       "      <td>29</td>\n",
       "      <td>0</td>\n",
       "    </tr>\n",
       "  </tbody>\n",
       "</table>\n",
       "<p>700212 rows × 33 columns</p>\n",
       "</div>"
      ],
      "text/plain": [
       "                                                msno  payment_method_id  \\\n",
       "0       ++jbV49/2rayAbDFcuc17mtZklsc9Ob/kHmGQfsTrLI=               41.0   \n",
       "1       ++kosgi4V03jOxcBKjM/9tPignUOxcc7jBVnZLJ+lX0=               41.0   \n",
       "2       +0KcMm8JNCW08lTp3Lyz5Ger/47u3yj9H2xLf8lyAj8=               41.0   \n",
       "3       +0QQxbBbymdYyBxpsY6/LrijzjL/Qte1eej3g/v+wWw=               41.0   \n",
       "4       +0hXEuyLuw+Kgfa4BUz8v3R27ZmWPWKSktfe9twCVhA=               41.0   \n",
       "...                                              ...                ...   \n",
       "700207  zzxIjlrMxRzNVDD6XqUDRBqkWn7OJ9mzFmFQlfLtLCE=               36.0   \n",
       "700208  zzxZeMFx2fjfKZigMnJa2w0EmloDbm8+8nTf/o/00GY=               41.0   \n",
       "700209  zzy7iqSpfcRq7R4hmKKuhI+CJRs79a6pteqEggpiNO0=               36.0   \n",
       "700210  zzyHq6TK2+cBkeGFUHvh12Z7UxFZiSM7dOOSllSBPDw=               29.0   \n",
       "700211  zzzF1KsGfHH3qI6qiSNSXC35UXmVKMVFdxkp7xmDMc0=               40.0   \n",
       "\n",
       "        payment_plan_days  plan_list_price  actual_amount_paid  is_auto_renew  \\\n",
       "0                    30.0             99.0                99.0            1.0   \n",
       "1                    30.0            149.0               149.0            1.0   \n",
       "2                    30.0            149.0               149.0            1.0   \n",
       "3                    30.0            149.0               149.0            1.0   \n",
       "4                    30.0            149.0               149.0            1.0   \n",
       "...                   ...              ...                 ...            ...   \n",
       "700207               30.0            180.0               180.0            1.0   \n",
       "700208               30.0             99.0                99.0            1.0   \n",
       "700209               30.0            180.0               180.0            0.0   \n",
       "700210               30.0            180.0               180.0            0.0   \n",
       "700211               30.0            149.0               149.0            1.0   \n",
       "\n",
       "        is_cancel  sum_membership_duration  avg_time_between_transactions  \\\n",
       "0             0.0                      474                     197.000000   \n",
       "1             0.0                       61                       4.666667   \n",
       "2             0.0                    15643                      36.894737   \n",
       "3             0.0                     1041                     162.333333   \n",
       "4             0.0                       61                       2.333333   \n",
       "...           ...                      ...                            ...   \n",
       "700207        0.0                       33                       0.000000   \n",
       "700208        0.0                       31                       0.000000   \n",
       "700209        0.0                       32                       0.000000   \n",
       "700210        0.0                       30                       0.000000   \n",
       "700211        0.0                       30                       0.000000   \n",
       "\n",
       "        num_unq  total_secs  percent_25  percent_50  percent_100  city  \\\n",
       "0         246.0   28328.795    0.668354    0.060759     0.245570   1.0   \n",
       "1          42.0  121449.944    0.241727    0.063309     0.656115   1.0   \n",
       "2          22.0   29609.154    0.057971    0.007246     0.927536   1.0   \n",
       "3          98.0  352087.011    0.038920    0.006905     0.953547   1.0   \n",
       "4          14.0   20225.056    0.250000    0.075000     0.625000   1.0   \n",
       "...         ...         ...         ...         ...          ...   ...   \n",
       "700207     11.0    9333.516    0.203704    0.185185     0.555556   1.0   \n",
       "700208     40.0   13172.171    0.033333    0.000000     0.966667   4.0   \n",
       "700209     56.0  268039.763    0.094642    0.048017     0.825331   5.0   \n",
       "700210    158.0  477846.789    0.007892    0.003714     0.985144   9.0   \n",
       "700211     44.0   59525.679    0.040816    0.004082     0.951020   4.0   \n",
       "\n",
       "        registered_via  latest_transaction_year  latest_transaction_month  \\\n",
       "0                  7.0                     2017                         3   \n",
       "1                  7.0                     2017                         3   \n",
       "2                  7.0                     2017                         3   \n",
       "3                  7.0                     2017                         3   \n",
       "4                  7.0                     2017                         3   \n",
       "...                ...                      ...                       ...   \n",
       "700207             4.0                     2017                         3   \n",
       "700208             7.0                     2017                         3   \n",
       "700209             3.0                     2017                         2   \n",
       "700210             7.0                     2017                         3   \n",
       "700211             3.0                     2017                         3   \n",
       "\n",
       "        latest_transaction_week  latest_transaction_day  \\\n",
       "0                            10                      10   \n",
       "1                            12                      24   \n",
       "2                            11                      13   \n",
       "3                            13                      31   \n",
       "4                            10                       8   \n",
       "...                         ...                     ...   \n",
       "700207                        9                       5   \n",
       "700208                       12                      26   \n",
       "700209                        9                      28   \n",
       "700210                       10                      11   \n",
       "700211                        9                       5   \n",
       "\n",
       "        latest_membership_expiration_year  latest_membership_expiration_month  \\\n",
       "0                                    2017                                   4   \n",
       "1                                    2017                                   4   \n",
       "2                                    2018                                   9   \n",
       "3                                    2017                                   5   \n",
       "4                                    2017                                   4   \n",
       "...                                   ...                                 ...   \n",
       "700207                               2017                                   4   \n",
       "700208                               2017                                   4   \n",
       "700209                               2017                                   4   \n",
       "700210                               2017                                   4   \n",
       "700211                               2017                                   4   \n",
       "\n",
       "        latest_membership_expiration_week  latest_membership_expiration_day  \\\n",
       "0                                      17                                27   \n",
       "1                                      16                                23   \n",
       "2                                      37                                13   \n",
       "3                                      18                                 4   \n",
       "4                                      14                                 7   \n",
       "...                                   ...                               ...   \n",
       "700207                                 14                                 7   \n",
       "700208                                 17                                26   \n",
       "700209                                 13                                 1   \n",
       "700210                                 15                                10   \n",
       "700211                                 14                                 4   \n",
       "\n",
       "        latest_listen_date_year  latest_listen_date_month  \\\n",
       "0                          2017                         3   \n",
       "1                          2017                         3   \n",
       "2                          2017                         3   \n",
       "3                          2017                         3   \n",
       "4                          2017                         3   \n",
       "...                         ...                       ...   \n",
       "700207                     2017                         3   \n",
       "700208                     2017                         3   \n",
       "700209                     2017                         3   \n",
       "700210                     2017                         3   \n",
       "700211                     2017                         3   \n",
       "\n",
       "        latest_listen_date_week  latest_listen_date_day  \\\n",
       "0                            13                      30   \n",
       "1                            13                      31   \n",
       "2                            13                      30   \n",
       "3                            13                      31   \n",
       "4                            13                      31   \n",
       "...                         ...                     ...   \n",
       "700207                       13                      31   \n",
       "700208                       10                      10   \n",
       "700209                       13                      31   \n",
       "700210                       13                      31   \n",
       "700211                       13                      28   \n",
       "\n",
       "        registration_init_time_year  registration_init_time_month  \\\n",
       "0                              2011                            10   \n",
       "1                              2015                             7   \n",
       "2                              2013                             3   \n",
       "3                              2010                            12   \n",
       "4                              2016                             1   \n",
       "...                             ...                           ...   \n",
       "700207                         2017                             3   \n",
       "700208                         2012                             3   \n",
       "700209                         2015                             4   \n",
       "700210                         2013                             5   \n",
       "700211                         2017                             1   \n",
       "\n",
       "        registration_init_time_week  registration_init_time_day  is_churn  \n",
       "0                                42                          19         0  \n",
       "1                                28                          10         0  \n",
       "2                                11                          13         0  \n",
       "3                                51                          21         0  \n",
       "4                                53                           2         0  \n",
       "...                             ...                         ...       ...  \n",
       "700207                            9                           5         0  \n",
       "700208                           10                           6         0  \n",
       "700209                           18                          30         0  \n",
       "700210                           20                          15         0  \n",
       "700211                            4                          29         0  \n",
       "\n",
       "[700212 rows x 33 columns]"
      ]
     },
     "execution_count": 156,
     "metadata": {},
     "output_type": "execute_result"
    }
   ],
   "source": [
    "churn_pred"
   ]
  }
 ],
 "metadata": {
  "kernelspec": {
   "display_name": "Python 3 (ipykernel)",
   "language": "python",
   "name": "python3"
  },
  "language_info": {
   "codemirror_mode": {
    "name": "ipython",
    "version": 3
   },
   "file_extension": ".py",
   "mimetype": "text/x-python",
   "name": "python",
   "nbconvert_exporter": "python",
   "pygments_lexer": "ipython3",
   "version": "3.9.7"
  }
 },
 "nbformat": 4,
 "nbformat_minor": 5
}
